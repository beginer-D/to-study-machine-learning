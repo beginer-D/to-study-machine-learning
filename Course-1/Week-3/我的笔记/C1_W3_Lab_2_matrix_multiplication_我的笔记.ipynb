{
 "cells": [
  {
   "cell_type": "markdown",
   "id": "e16999dc-8db7-435d-8298-5190cd0a2fb5",
   "metadata": {
    "ExecuteTime": {
     "end_time": "2025-03-06T08:02:17.642121Z",
     "start_time": "2025-03-06T08:02:17.639262Z"
    },
    "collapsed": true,
    "jupyter": {
     "outputs_hidden": true
    }
   },
   "source": [
    "## 矩阵乘法\n",
    "使用`Numpy`函数执行矩阵乘法，并了解如何在机器学习中应用。"
   ]
  },
  {
   "cell_type": "markdown",
   "id": "f4026c27-9a05-4a04-9e85-0d2901d50185",
   "metadata": {},
   "source": [
    "## 包"
   ]
  },
  {
   "cell_type": "code",
   "execution_count": 2,
   "id": "d6e4d03c-9603-47ee-bd32-16fddb632c8b",
   "metadata": {
    "ExecuteTime": {
     "end_time": "2025-03-06T09:13:01.325635Z",
     "start_time": "2025-03-06T09:13:01.089004Z"
    }
   },
   "outputs": [],
   "source": [
    "import numpy as np"
   ]
  },
  {
   "cell_type": "markdown",
   "id": "77b8197b-4f97-4879-8384-a09de674474d",
   "metadata": {},
   "source": [
    "## 矩阵乘法的定义\n",
    "如果A是一个m * n 矩阵，而B是一个n * p 矩阵，矩阵乘积C = AB(不使用乘号或点表示)定义为满足m * p的$c_{ij}=a_{i1}b_{1j}+a_{i2}b_{2j}+\\ldots+a_{in}b_{nj}=\\sum_{k=1}^{n} a_{ik}b_{kj}, \\tag{4}$\n",
    "其中相加的每一项中的因数分别来自矩阵A和矩阵B，以及i=1,……,m\\k=1,……,n、j=1,……,p\n",
    "换句话说，矩阵C中的每一个元素是矩阵A某一行与矩阵B某一列的点积构成的。"
   ]
  },
  {
   "cell_type": "markdown",
   "id": "5fd700de-fd5b-4012-9116-1cbf02496c0d",
   "metadata": {},
   "source": [
    "## 使用Python进行矩阵乘法\n",
    "与点积类似，在Python中执行乘法有多种方法。向量化的计算更高效。让我们讨论最常用的向量化形式（就是把数存进数组）\n",
    "二维数组中每小组的个数为行数，小组里的元素数是列数"
   ]
  },
  {
   "cell_type": "code",
   "execution_count": 3,
   "id": "2281ab6b-5c02-4142-aa75-96dfca83b7ee",
   "metadata": {
    "ExecuteTime": {
     "end_time": "2025-03-06T09:13:01.346477Z",
     "start_time": "2025-03-06T09:13:01.337651Z"
    }
   },
   "outputs": [
    {
     "name": "stdout",
     "output_type": "stream",
     "text": [
      "3*3的矩阵A： [[4 9 9]\n",
      " [9 1 6]\n",
      " [9 2 3]]\n",
      "3*2的矩阵B： [[2 2]\n",
      " [5 7]\n",
      " [4 4]]\n"
     ]
    }
   ],
   "source": [
    "A = np.array([[4,9,9],[9,1,6],[9,2,3]])\n",
    "print(\"3*3的矩阵A：\",A)\n",
    "\n",
    "B = np.array([[2,2],[5,7],[4,4]])\n",
    "print(\"3*2的矩阵B：\",B)"
   ]
  },
  {
   "cell_type": "markdown",
   "id": "ed80ac57-5181-4adf-94fb-940206bdb609",
   "metadata": {},
   "source": [
    "可以是使用numpy中的函数`np.matmul()`来乘以矩阵A和B"
   ]
  },
  {
   "cell_type": "code",
   "execution_count": 4,
   "id": "9ebca112-0930-47a4-af05-f9283e5882e7",
   "metadata": {
    "ExecuteTime": {
     "end_time": "2025-03-06T09:13:01.393993Z",
     "start_time": "2025-03-06T09:13:01.382798Z"
    }
   },
   "outputs": [
    {
     "data": {
      "text/plain": [
       "array([[ 89, 107],\n",
       "       [ 47,  49],\n",
       "       [ 40,  44]])"
      ]
     },
     "execution_count": 4,
     "metadata": {},
     "output_type": "execute_result"
    }
   ],
   "source": [
    "np.matmul(A,B)"
   ]
  },
  {
   "cell_type": "markdown",
   "id": "48d4ad8d-4b8f-4c4d-a792-4e1772b1b39c",
   "metadata": {},
   "source": [
    "Python运算符`@`也可以产生相同的效果,当然相乘双方必须为np数组"
   ]
  },
  {
   "cell_type": "code",
   "execution_count": 5,
   "id": "3a7239fc-62a6-4db7-b2f6-438ee3cb857d",
   "metadata": {
    "ExecuteTime": {
     "end_time": "2025-03-06T09:13:02.094159Z",
     "start_time": "2025-03-06T09:13:02.087873Z"
    }
   },
   "outputs": [
    {
     "data": {
      "text/plain": [
       "array([[ 89, 107],\n",
       "       [ 47,  49],\n",
       "       [ 40,  44]])"
      ]
     },
     "execution_count": 5,
     "metadata": {},
     "output_type": "execute_result"
    }
   ],
   "source": [
    "A@B"
   ]
  },
  {
   "cell_type": "markdown",
   "id": "7ad4aaa7-2f80-49f1-be1a-e349e5892e6c",
   "metadata": {},
   "source": [
    "## 矩阵约定和广播\n",
    "数学上，矩阵乘法的条件是矩阵A(前面)的列数等于矩阵B(后面)的行数,所以矩阵乘法的顺序不能随便改变。"
   ]
  },
  {
   "cell_type": "code",
   "execution_count": 6,
   "id": "acc63d1c-c1ea-47fd-ac1b-a3c958e8d79e",
   "metadata": {
    "ExecuteTime": {
     "end_time": "2025-03-06T09:13:02.189225Z",
     "start_time": "2025-03-06T09:13:02.182421Z"
    }
   },
   "outputs": [
    {
     "name": "stdout",
     "output_type": "stream",
     "text": [
      "matmul: Input operand 1 has a mismatch in its core dimension 0, with gufunc signature (n?,k),(k,m?)->(n?,m?) (size 3 is different from 2)\n"
     ]
    }
   ],
   "source": [
    "try:\n",
    "    np.matmul(B,A)\n",
    "except ValueError as err:\n",
    "    print(err)"
   ]
  },
  {
   "cell_type": "code",
   "execution_count": 7,
   "id": "0dcf6a06-c85e-48b6-82d4-f6564570c221",
   "metadata": {
    "ExecuteTime": {
     "end_time": "2025-03-06T09:13:02.346692Z",
     "start_time": "2025-03-06T09:13:02.340584Z"
    }
   },
   "outputs": [
    {
     "name": "stdout",
     "output_type": "stream",
     "text": [
      "matmul: Input operand 1 has a mismatch in its core dimension 0, with gufunc signature (n?,k),(k,m?)->(n?,m?) (size 3 is different from 2)\n"
     ]
    }
   ],
   "source": [
    "try:\n",
    "    B @ A\n",
    "except ValueError as err:\n",
    "    print(err)"
   ]
  },
  {
   "cell_type": "markdown",
   "id": "7be04da7-14fa-460c-8337-3ba76ad465d8",
   "metadata": {},
   "source": [
    "然而，对于向量的乘法,`Numpy`有一个快捷方式。可以定义两个相同形状的向量X和Y。如果检查向量X的形状："
   ]
  },
  {
   "cell_type": "code",
   "execution_count": 8,
   "id": "b33b1e8f-6bae-4b21-91bd-29e355138ffb",
   "metadata": {
    "ExecuteTime": {
     "end_time": "2025-03-06T09:13:02.556772Z",
     "start_time": "2025-03-06T09:13:02.548460Z"
    }
   },
   "outputs": [
    {
     "name": "stdout",
     "output_type": "stream",
     "text": [
      "x的形状： (3,)\n",
      "x的秩： 1\n",
      "x变形后的形状: (3, 1)\n",
      "x变形后的秩: 2\n"
     ]
    }
   ],
   "source": [
    "x = np.array([1,-2,-5])\n",
    "y = np.array([4,3,-1])\n",
    "print(\"x的形状：\",x.shape)\n",
    "print(\"x的秩：\",x.ndim)\n",
    "print(\"x变形后的形状:\",x.reshape((3,1)).shape)\n",
    "print(\"x变形后的秩:\",x.reshape((3,1)).ndim)"
   ]
  },
  {
   "cell_type": "code",
   "execution_count": 9,
   "id": "bc5e4a64-6515-45f8-be14-8f709749d862",
   "metadata": {},
   "outputs": [
    {
     "data": {
      "text/plain": [
       "np.int64(3)"
      ]
     },
     "execution_count": 9,
     "metadata": {},
     "output_type": "execute_result"
    }
   ],
   "source": [
    "np.matmul(x,y)"
   ]
  },
  {
   "cell_type": "markdown",
   "id": "a7026ff4-baf1-401e-a955-a451315a1a31",
   "metadata": {},
   "source": [
    "实际上，np.matmul()会让两个长度相同的一维数组进行点积运算。下面的单元格中，x和y都转换成了二维数组，且列和行不匹配，返回错误。"
   ]
  },
  {
   "cell_type": "code",
   "execution_count": 10,
   "id": "1b7b87cb-4934-4346-a382-a2a589d4036e",
   "metadata": {
    "ExecuteTime": {
     "end_time": "2025-03-06T09:13:02.697851Z",
     "start_time": "2025-03-06T09:13:02.692592Z"
    }
   },
   "outputs": [
    {
     "name": "stdout",
     "output_type": "stream",
     "text": [
      "matmul: Input operand 1 has a mismatch in its core dimension 0, with gufunc signature (n?,k),(k,m?)->(n?,m?) (size 3 is different from 1)\n"
     ]
    }
   ],
   "source": [
    "try:\n",
    "    np.matmul(x.reshape((3, 1)), y.reshape((3, 1)))\n",
    "except ValueError as err:\n",
    "    print(err)"
   ]
  },
  {
   "cell_type": "markdown",
   "id": "c4dca4a9-c158-4ba6-a941-8df8abe6b98e",
   "metadata": {},
   "source": [
    "`np.dot()`也适合矩阵乘法"
   ]
  },
  {
   "cell_type": "code",
   "execution_count": 11,
   "id": "607027d1-e56d-4fdd-9a7c-bd946063b10a",
   "metadata": {
    "ExecuteTime": {
     "end_time": "2025-03-06T09:13:02.759824Z",
     "start_time": "2025-03-06T09:13:02.752723Z"
    }
   },
   "outputs": [
    {
     "data": {
      "text/plain": [
       "array([[ 89, 107],\n",
       "       [ 47,  49],\n",
       "       [ 40,  44]])"
      ]
     },
     "execution_count": 11,
     "metadata": {},
     "output_type": "execute_result"
    }
   ],
   "source": [
    "np.dot(A,B)"
   ]
  },
  {
   "cell_type": "markdown",
   "id": "7097e370-ed3f-4aba-8668-fde3d749e36f",
   "metadata": {},
   "source": [
    "`numpy`将这个点积操作广播到所有的行和所有的列，得到结果乘积矩阵。在其他情况的广播，例如：\n"
   ]
  },
  {
   "cell_type": "code",
   "execution_count": 12,
   "id": "44525f37-5064-4919-9813-b0e323bb27ed",
   "metadata": {
    "ExecuteTime": {
     "end_time": "2025-03-06T09:13:02.900884Z",
     "start_time": "2025-03-06T09:13:02.891145Z"
    }
   },
   "outputs": [
    {
     "data": {
      "text/plain": [
       "array([[ 2,  7,  7],\n",
       "       [ 7, -1,  4],\n",
       "       [ 7,  0,  1]])"
      ]
     },
     "execution_count": 12,
     "metadata": {},
     "output_type": "execute_result"
    }
   ],
   "source": [
    "A - 2"
   ]
  },
  {
   "cell_type": "markdown",
   "id": "967a390b-82b8-41c4-bc67-97d9a7ea7424",
   "metadata": {},
   "source": [
    "数学上，3 * 3 的矩阵减去一个标量没有定义，但Python会广播标量，创建一个 3 * 3 np.array，然后逐个元素相减。"
   ]
  },
  {
   "cell_type": "markdown",
   "id": "28668a79-bef4-4c39-b70a-cd7dd34ecf36",
   "metadata": {},
   "source": [
    "## 具体的广播逻辑\n",
    "从右往左比较，维度必须相等或其中一个为1\n",
    "\n",
    "假设两个数组的形状分别为 (A, B, 1) 和 (C, 1, D)：\n",
    "从右到左比较维度：\n",
    "第 3 维度：1 和 D → 不匹配，但 1 可以扩展为 D。\n",
    "\n",
    "第 2 维度：B 和 1 → 不匹配，但 1 可以扩展为 B。\n",
    "\n",
    "第 1 维度：A 和 C → 必须相等或其中一个为 1。\n",
    "\n",
    "扩展后的形状：\n",
    "最终形状为 (max(A,C), B, D)。"
   ]
  },
  {
   "cell_type": "code",
   "execution_count": null,
   "id": "036dd800-dd43-4ef0-a788-6ebdb0540e6b",
   "metadata": {},
   "outputs": [],
   "source": []
  }
 ],
 "metadata": {
  "kernelspec": {
   "display_name": "Python 3 (ipykernel)",
   "language": "python",
   "name": "python3"
  },
  "language_info": {
   "codemirror_mode": {
    "name": "ipython",
    "version": 3
   },
   "file_extension": ".py",
   "mimetype": "text/x-python",
   "name": "python",
   "nbconvert_exporter": "python",
   "pygments_lexer": "ipython3",
   "version": "3.13.2"
  }
 },
 "nbformat": 4,
 "nbformat_minor": 5
}
