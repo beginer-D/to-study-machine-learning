{
 "cells": [
  {
   "cell_type": "markdown",
   "id": "ce549f85-b7c8-4278-bc7c-7fbf0bfe6ab1",
   "metadata": {
    "collapsed": true,
    "jupyter": {
     "outputs_hidden": true
    }
   },
   "source": [
    "# 单感知器神经网络用于线性回归"
   ]
  },
  {
   "cell_type": "markdown",
   "id": "376b52d5-b8ef-4d2e-afbd-23fe249b9ba4",
   "metadata": {},
   "source": [
    "现在可以通过构建第一个包含单个感知器的神经网络来应用矩阵乘法。\n",
    "$ 在此任务之后，能够：$\n",
    "* 实现一个具有单个感知器和单个输入节点的神经网络，用于简单线性回归\n",
    "* 实现使用矩阵乘法的正向传播\n",
    "* 实现一个具有单个感知器和两个输入节点的神经网络，用于多重线性回归"
   ]
  },
  {
   "cell_type": "markdown",
   "id": "afe732c0-c5eb-41aa-b2c4-9e40badf35fc",
   "metadata": {},
   "source": [
    "# 导入所有的包"
   ]
  },
  {
   "cell_type": "code",
   "id": "5c586beb-2266-47fe-94fb-baacead8684c",
   "metadata": {
    "ExecuteTime": {
     "end_time": "2025-03-04T06:41:24.946984Z",
     "start_time": "2025-03-04T06:40:44.175592Z"
    }
   },
   "source": [
    "import numpy as np\n",
    "import matplotlib.pyplot as plt\n",
    "\n",
    "from sklearn.datasets import make_regression\n",
    "\n",
    "import pandas as pd\n",
    "\n",
    "import w3_tools\n",
    "\n",
    "#绘图命令的输出在 Jupyter 笔记本中内联显示\n",
    "%matplotlib inline \n",
    "\n",
    "# 设置一个种子，是结果一致\n",
    "# 种子理解为生成随机序列的初始值\n",
    "np.random.seed(3)"
   ],
   "outputs": [],
   "execution_count": 1
  },
  {
   "cell_type": "markdown",
   "id": "aa070452-9155-4137-8c48-cbc588e4f650",
   "metadata": {},
   "source": [
    "加载笔记本中定义的单元测试"
   ]
  },
  {
   "cell_type": "code",
   "id": "ad151e8c-185c-4d13-8acb-2ee170bbcfae",
   "metadata": {
    "ExecuteTime": {
     "end_time": "2025-03-04T06:41:24.974212Z",
     "start_time": "2025-03-04T06:41:24.965997Z"
    }
   },
   "source": [
    "import w3_unittest"
   ],
   "outputs": [],
   "execution_count": 2
  },
  {
   "cell_type": "markdown",
   "id": "43c02622-bb50-44f5-bd81-5c10d43a595e",
   "metadata": {},
   "source": [
    "## 简单线性回归\n",
    "线性回归是一种用于建模响应（因变量）与一个或多个解释变量（自变量）之间关系的线性方法。只有一个自变量的情况称为简单线性回归：对于多个自变量，则称为多元线性回归。"
   ]
  },
  {
   "cell_type": "markdown",
   "id": "827ef3e4-3acb-46a4-b16e-214c0f67ee20",
   "metadata": {},
   "source": [
    "## 简单线性回归模型\n",
    "简单线性回归模型可以表示：\n",
    "$$\\hat{y} = wx + b,\\tag{1}$$\n",
    "y是基于独立变量x使用斜率为w和截距b的直线方程对因变量y的预测。\n",
    "给定一组训练数据点（x1，y1），……，（xm，ym），目标是找到“最佳”拟合线——即参数w和b，使得原始值yi与预测值y'=wxi+b之间的差异最小。\n",
    "\n",
    "可以使用一个简单等等神经网络模型来完成这个任务。"
   ]
  },
  {
   "cell_type": "markdown",
   "id": "536c0b27-b0c6-42db-bcb2-6ff62cb92e78",
   "metadata": {},
   "source": [
    "## 单感知器和一个输入节点的神经网络模型\n",
    "最简单的神经网络模型只有一个感知器。接受一些输入并计算输出的值\n",
    "\n",
    "\n",
    "神经网络的最小构建快被称为节点，一些节点存储输入的数字，而另一些节点存储计算出的值。输入节点（这里只有一个输入节点x）包含网络的数据输入。这些节点被设置为网络的一个输入层。"
   ]
  },
  {
   "cell_type": "markdown",
   "id": "e300ffdc-deb0-43de-b109-0da8dcf601c2",
   "metadata": {},
   "source": [
    "<img src=\"images/nn_model_linear_regression_simple.png\" style=\"width:400px;\">\n",
    "神经网络的最小构建块被称为节点。一些节点存储输入的数字，而另一些节点存储计算出的值。《输入节点》（此处只有一个输入节点x)包含网络的数据输入。这些节点被设置为网络的一个《输入层》。\n",
    "\n",
    "权重（w）和偏差（b）是训练模型时将更新的参数。被初始化为某个随机值或设置为0，并在训练过程中更新。偏差类似于一个独立于任何输入节点的权重。\n",
    "\n",
    "感知机输出计算简单：首先计算x和权重w的乘积，然后加上偏置。\n",
    "$$z = w x + b\\tag{2}$$\n",
    "\n",
    "单感知器的输出层只有一个节点$ 输出层 $ y = z。\n",
    "\n",
    "将所有内容综合起来，从数学上将，单个感知器神经网络模型可以表示为：\n",
    "\\begin{align}\n",
    "z^{(i)} &=  w x^{(i)} + b,\\\\\n",
    "\\hat{y}^{(i)} &= z^{(i)},\n",
    "\\tag{3}\\end{align}\n",
    "\n",
    "xi代表第i个训练实例，基于该实例的预测将是yi，i=1，……m。\n",
    "\n",
    "如果有m个训练实例，向量运算可以把所有的训练实例转换成向量，同时将他们全部计算！\n",
    "将所有的训练样本组成一个大小为（1✖m）的向量X。然后将标量乘到向量上，加上b，这将广播到大小为（1×m）的向量\n",
    "\n",
    "(广播是在numpy中，标量和向量相加时，标量会变形成向量的形式)\n",
    "\n",
    "\\begin{align}\n",
    "Z &=  w X + b,\\\\\n",
    "\\hat{Y} &= Z,\n",
    "\\tag{4}\\end{align}\n",
    "\n",
    "这一组计算称为$ 前向传播 $ \n"
   ]
  },
  {
   "cell_type": "markdown",
   "id": "d1d681c7-a211-459f-af78-5812dae67048",
   "metadata": {},
   "source": [
    "现在可以比较Z（1×m）与原始数据向量Y。可以通过`成本函数`来完成，该函数可以衡量预测向量与训练数据之间的接近程度。评估了参数w和b解决该问题的效果（或者说是评估感知器的效果），根据输入的不同，有许多不同的成本函数可选择。\n",
    "\n",
    "\n",
    "$$\\mathcal{L}\\left(w, b\\right)  = \\frac{1}{2m}\\sum_{i=1}^{m} \\left(\\hat{y}^{(i)} - y^{(i)}\\right)^2.\\tag{5}$$\n",
    "\n",
    "目标为了尽可能减少成本函数（估算预测结果与实际结果误差的函数），这将减少原始值yi和预测值之间的差异，（除以2m为了缩放）\n",
    "\n",
    "当权重用一些随机值，还没有进行训练时，不能期望得到好的结果。\n",
    "\n",
    "对权重和偏置求梯度就是找到成本函数在当前权重和偏置下上升最快的方向和速率\n",
    "\n",
    "下一步是调整权重和偏置，以最小化成本函数。这个过程称为`反向传播`，并且是迭代进行的：不断把参数微调再重复这个故过程。\n",
    "\n",
    "构建神经网络的一般方法为：\n",
    "1. 定义神经网络的结构（输入单元数量、隐藏单元数量等）\n",
    "2. 初始化模型的参数\n",
    "3. 循环：\n",
    "   * 实现前向传播（计算感知器输出）\n",
    "   * 实现反向传播（获取参数的校正）\n",
    "   * 更新参数\n",
    "4. 进行预测\n",
    "\n",
    "经常需要构建辅助函数来计算步骤1-3，然后将它们合并成一个调用的函数`nn_model()`一旦构建了`nn_model()`并学会了正确的参数，就可以对新数据进行预测。\n",
    "\n"
   ]
  },
  {
   "cell_type": "markdown",
   "id": "9204a84e-0533-447d-843f-876f3f5c98d8",
   "metadata": {},
   "source": [
    "## 数据集\n",
    "首先，获取将要工作的数据集。以下代码将创建m=30数据点（x1，y1），……，（xm，ym），并将它们保存到形状为（1×m）的`Numpy`数组`X`和`Y`中。"
   ]
  },
  {
   "cell_type": "code",
   "id": "ec703748-cde1-4666-99c4-c65082894dd8",
   "metadata": {
    "ExecuteTime": {
     "end_time": "2025-03-04T06:41:24.998257Z",
     "start_time": "2025-03-04T06:41:24.989317Z"
    }
   },
   "source": [
    "m = 30\n",
    "\"\"\"\n",
    "make_regression 函数是scikit-learn库中用于生成用于回归分析的随机数据集。\n",
    "n_samples=m 定义要生成的样本数量，n_features是特征数量，random_state确保结果可重复\n",
    "noise是高斯噪声标准差，噪声指无法用模型解释的随机变化或误差，noise参数越大，则数据中的噪声就越弱\n",
    "random_state：用于设置随机数生成种子，保证结果可重复性\n",
    "\n",
    "\"\"\"\n",
    "X , Y =make_regression(n_samples=m,n_features=1,noise=20,random_state=1)\n",
    "\n",
    "X = X.reshape((1,m))\n",
    "Y = Y.reshape((1,m))\n",
    "\n",
    "print(\"X的训练数据:\")\n",
    "print(X)\n",
    "\n",
    "print(\"Y的训练数据:\")\n",
    "print(Y)"
   ],
   "outputs": [
    {
     "name": "stdout",
     "output_type": "stream",
     "text": [
      "X的训练数据:\n",
      "[[ 0.3190391  -1.07296862  0.86540763 -0.17242821  1.14472371  0.50249434\n",
      "  -2.3015387  -0.68372786 -0.38405435 -0.87785842 -2.06014071 -1.10061918\n",
      "  -1.09989127  1.13376944  1.74481176 -0.12289023 -0.93576943  1.62434536\n",
      "   1.46210794  0.90159072 -0.7612069   0.53035547 -0.52817175 -0.26788808\n",
      "   0.58281521  0.04221375  0.90085595 -0.24937038 -0.61175641 -0.3224172 ]]\n",
      "Y的训练数据:\n",
      "[[ -3.01854669 -65.65047675  26.96755728   8.70562603  57.94332628\n",
      "   -0.69293498 -78.66594473 -12.73881492 -13.26721663 -24.80488085\n",
      "  -74.24484385 -39.99533724 -22.70174437  73.46766345  55.7257405\n",
      "   23.80417646 -13.45481508  25.57952246  75.91238321  50.91155323\n",
      "  -43.7191551   -1.7025559  -16.44931235 -33.54041234  20.4505961\n",
      "   18.35949302  37.69029586  -1.04801683  -4.47915933 -20.89431647]]\n"
     ]
    }
   ],
   "execution_count": 3
  },
  {
   "cell_type": "markdown",
   "id": "9cadce8b-8502-46c5-ba9c-48ba8d9c91f2",
   "metadata": {},
   "source": [
    "加载此笔记本定义的单元测试"
   ]
  },
  {
   "cell_type": "markdown",
   "id": "863e1938-62d5-4caf-b99b-b3e2ec22495a",
   "metadata": {},
   "source": [
    "### 绘制数据集："
   ]
  },
  {
   "cell_type": "code",
   "id": "d602f16d-d162-4e4a-a41d-f6437560ba60",
   "metadata": {
    "ExecuteTime": {
     "end_time": "2025-03-04T06:41:25.858790Z",
     "start_time": "2025-03-04T06:41:25.407414Z"
    }
   },
   "source": [
    "plt.scatter(X,Y,c=\"black\")\n",
    "\n",
    "plt.xlabel(\"$x$\")\n",
    "plt.ylabel(\"$y$\")"
   ],
   "outputs": [
    {
     "data": {
      "text/plain": [
       "Text(0, 0.5, '$y$')"
      ]
     },
     "execution_count": 4,
     "metadata": {},
     "output_type": "execute_result"
    },
    {
     "data": {
      "text/plain": [
       "<Figure size 640x480 with 1 Axes>"
      ],
      "image/png": "[encoded data removed]"
     },
     "metadata": {},
     "output_type": "display_data"
    }
   ],
   "execution_count": 4
  },
  {
   "cell_type": "markdown",
   "id": "85b59bd2-e28c-4c68-a5bc-ab56fd7711f1",
   "metadata": {},
   "source": [
    "## 练习\n",
    "什么是变量X和Y的shape？此外，你有多少个样本？\n",
    "X和Y存储着样本特征、样本类别、样本数量"
   ]
  },
  {
   "cell_type": "code",
   "id": "cf4fa703-406b-43ed-8502-b640491ddd45",
   "metadata": {
    "ExecuteTime": {
     "end_time": "2025-03-04T06:41:25.883096Z",
     "start_time": "2025-03-04T06:41:25.877485Z"
    }
   },
   "source": [
    "\n",
    "shape_X = X.shape\n",
    "shape_Y = Y.shape\n",
    "m = X.size\n",
    "\n",
    "\n",
    "print(\"the shape X:\"+str(shape_X))\n",
    "print(\"the shape Y:\"+str(shape_Y))\n",
    "print(\"我有训练样本m= %d 训练\"%(m))\n"
   ],
   "outputs": [
    {
     "name": "stdout",
     "output_type": "stream",
     "text": [
      "the shape X:(1, 30)\n",
      "the shape Y:(1, 30)\n",
      "我有训练样本m= 30 训练\n"
     ]
    }
   ],
   "execution_count": 5
  },
  {
   "cell_type": "markdown",
   "id": "e48da29b-cc94-497d-b496-2d40571d78e0",
   "metadata": {},
   "source": [
    "## 线性回归神经网络模型的实现\n",
    "将拓展此简单模型拓展到复杂的结构方式处理神经网络。"
   ]
  },
  {
   "cell_type": "markdown",
   "id": "c9e4d268-cb41-4997-b927-f496f9bdc927",
   "metadata": {},
   "source": [
    "## 定义神经网络结构"
   ]
  },
  {
   "cell_type": "markdown",
   "id": "0138199f-7c08-4913-9520-0212a75b9cb2",
   "metadata": {},
   "source": [
    "## 练习\n",
    "定义两个变量：\n",
    "* 输入层大小\n",
    "* 输出层大小"
   ]
  },
  {
   "cell_type": "code",
   "id": "f41ca95a-8a7a-43df-b0ce-d54b6a2b02d1",
   "metadata": {
    "ExecuteTime": {
     "end_time": "2025-03-04T06:41:26.001249Z",
     "start_time": "2025-03-04T06:41:25.997235Z"
    }
   },
   "source": [
    "def layer_sizes(X,Y):\n",
    "    \"\"\"\n",
    "    输入：\n",
    "    X -- 输入的属性集(特征数量，样本数量)\n",
    "    Y -- 输出的标签集(分类，样本数量)\n",
    "    \n",
    "    返回：\n",
    "    n_x -- 输入特征的数量\n",
    "    n_y -- 输出类别的数量\n",
    "    \n",
    "    \"\"\"\n",
    "\n",
    "    n_x = X.shape[0]\n",
    "    n_y = Y.shape[0]\n",
    "\n",
    "    return (n_x,n_y)"
   ],
   "outputs": [],
   "execution_count": 6
  },
  {
   "cell_type": "code",
   "id": "83b9a5ef-6d4f-49e2-9f84-b643a36b62c3",
   "metadata": {
    "ExecuteTime": {
     "end_time": "2025-03-04T06:41:26.035089Z",
     "start_time": "2025-03-04T06:41:26.030066Z"
    }
   },
   "source": [
    "(n_x,n_y) = layer_sizes(X,Y)\n",
    "print(\"输入层的形状是:\"+str(n_x))\n",
    "print(\"输出层的形状是:\"+str(n_y))"
   ],
   "outputs": [
    {
     "name": "stdout",
     "output_type": "stream",
     "text": [
      "输入层的形状是:1\n",
      "输出层的形状是:1\n"
     ]
    }
   ],
   "execution_count": 7
  },
  {
   "cell_type": "code",
   "id": "e418fa74-0f42-4c33-8e94-84012fd04bab",
   "metadata": {
    "ExecuteTime": {
     "end_time": "2025-03-04T06:41:26.094013Z",
     "start_time": "2025-03-04T06:41:26.089916Z"
    }
   },
   "source": [
    "w3_unittest.test_layer_sizes(layer_sizes)"
   ],
   "outputs": [
    {
     "name": "stdout",
     "output_type": "stream",
     "text": [
      "\u001B[92m All tests passed\n"
     ]
    }
   ],
   "execution_count": 8
  },
  {
   "cell_type": "markdown",
   "id": "4c89dce7-9b7c-4bc3-a451-b6481cde31e3",
   "metadata": {},
   "source": [
    "## 初始化模型的参数"
   ]
  },
  {
   "cell_type": "markdown",
   "id": "19191779-c4a8-498d-80f3-9f8f134d5918",
   "metadata": {},
   "source": [
    "## 练习\n",
    "实现函数`initialize_parameters()`\n",
    "\n",
    "请看一下说明：\n",
    "- 确保参数大小\n",
    "- 随机值初始化权重矩阵\n",
    "    - 使用`np.random(a,b) ** 0.01`随机初始化形状为(a,b)的矩阵\n",
    " \n",
    "- 将初始化偏置为零\n",
    "    - 使用`np.zeros((a,b))`初始化形状为(a,b)的零矩阵"
   ]
  },
  {
   "cell_type": "code",
   "id": "d543df27-b2e4-4cdd-b7c8-c768443d0846",
   "metadata": {
    "ExecuteTime": {
     "end_time": "2025-03-04T06:41:26.185290Z",
     "start_time": "2025-03-04T06:41:26.178958Z"
    }
   },
   "source": [
    "# 用于初始化模型参数的函数\n",
    "def initialize_parameters(n_x,n_y):\n",
    "    # 形状权重矩阵(n_x,n_y)\n",
    "    W = np.random.randn(n_y,n_x)*0.01\n",
    "    # 偏置矩阵(n_y,1)\n",
    "    b = np.zeros((n_y,1))\n",
    "\n",
    "    assert(W.shape == (n_y,n_x))\n",
    "    assert(b.shape == (n_y,1))\n",
    "    # 返回权重和偏置的，按键值对的形式\n",
    "    parameters = {\"W\":W,\n",
    "                  \"b\":b}\n",
    "    return parameters"
   ],
   "outputs": [],
   "execution_count": 9
  },
  {
   "cell_type": "code",
   "id": "2bd9462c-40e6-4cfa-b086-867db8543464",
   "metadata": {
    "ExecuteTime": {
     "end_time": "2025-03-04T06:41:26.226243Z",
     "start_time": "2025-03-04T06:41:26.220357Z"
    }
   },
   "source": [
    "parameters = initialize_parameters(n_x, n_y)\n",
    "print(\"W = \" + str(parameters[\"W\"]))\n",
    "print(\"b = \" + str(parameters[\"b\"]))"
   ],
   "outputs": [
    {
     "name": "stdout",
     "output_type": "stream",
     "text": [
      "W = [[0.01788628]]\n",
      "b = [[0.]]\n"
     ]
    }
   ],
   "execution_count": 10
  },
  {
   "cell_type": "markdown",
   "id": "6fbb4133-a01e-4ed8-8dc4-27755d535874",
   "metadata": {},
   "source": [
    "预期输出\n",
    "注意：数组W的元素可能因为随机初始化而不同。尝试重新启动内核以获取相同的值"
   ]
  },
  {
   "cell_type": "code",
   "id": "e5126e60-acc9-4099-924c-4b5b6925b4f9",
   "metadata": {
    "ExecuteTime": {
     "end_time": "2025-03-04T06:41:26.296287Z",
     "start_time": "2025-03-04T06:41:26.291039Z"
    }
   },
   "source": [
    "# 在单元测试中不检查实际值（由于随机初始化）\n",
    "w3_unittest.test_initialize_parameters(initialize_parameters)"
   ],
   "outputs": [
    {
     "name": "stdout",
     "output_type": "stream",
     "text": [
      "\u001B[92m All tests passed\n"
     ]
    }
   ],
   "execution_count": 11
  },
  {
   "cell_type": "markdown",
   "id": "803b178c-1344-485b-b965-6b32e80a7915",
   "metadata": {},
   "source": [
    "## 循环"
   ]
  },
  {
   "cell_type": "markdown",
   "id": "dae40284-dd60-4340-9a9b-da0627a1239e",
   "metadata": {},
   "source": [
    "## 练习\n",
    "实现`forward_propagation()`\n",
    "\n",
    "请看以下说明\n",
    "- 查看模型的数学表示形式\n",
    "\\begin{align}\n",
    "Z &=  w X + b\\\\\n",
    "\\hat{Y} &= Z,\n",
    "\\end{align}\n",
    "- 需要实施的步骤是：\n",
    "  1. 从字典\"parameters\"(即`initialize_parameters()` 的输出中通过`parameters[\"……\"]获取每个参数\n",
    "  2. 实现前向传播。计算Z，通过乘以数组w、x并加上向量b。将预测数组A设置为Z。"
   ]
  },
  {
   "cell_type": "code",
   "id": "726fa6d8-cca5-40dc-8449-f7cb13539a19",
   "metadata": {
    "ExecuteTime": {
     "end_time": "2025-03-04T06:41:26.362536Z",
     "start_time": "2025-03-04T06:41:26.357980Z"
    }
   },
   "source": [
    "# 用于实现输出的函数\n",
    "def forward_propagation(X,parameters):\n",
    "    \"\"\"\n",
    "    Argument:\n",
    "    X -- 输入样本形状(n_x,m)\n",
    "    parameters -- python字典存储参数（初始化函数的输出）\n",
    "\n",
    "    返回：\n",
    "    Y_hat -- 输出\n",
    "    \n",
    "    \"\"\"\n",
    "    W = parameters[\"W\"]\n",
    "    b = parameters[\"b\"]\n",
    "\n",
    "    # np.dot计算两个数组的点积\n",
    "    Z =np.dot(W,X)+b\n",
    "    Y_hat = Z\n",
    "\n",
    "    assert(Y_hat.shape ==(n_y,X.shape[1]))\n",
    "\n",
    "    return Y_hat"
   ],
   "outputs": [],
   "execution_count": 12
  },
  {
   "cell_type": "code",
   "id": "58c7bf79-e534-487a-8405-c4b616c4acf0",
   "metadata": {
    "ExecuteTime": {
     "end_time": "2025-03-04T06:41:26.433519Z",
     "start_time": "2025-03-04T06:41:26.427503Z"
    }
   },
   "source": [
    "Y_hat = forward_propagation(X,parameters)\n",
    "\n",
    "print(Y_hat)"
   ],
   "outputs": [
    {
     "name": "stdout",
     "output_type": "stream",
     "text": [
      "[[ 0.00570642 -0.01919142  0.01547893 -0.0030841   0.02047485  0.00898776\n",
      "  -0.04116598 -0.01222935 -0.00686931 -0.01570163 -0.03684826 -0.01968599\n",
      "  -0.01967297  0.02027892  0.0312082  -0.00219805 -0.01673744  0.0290535\n",
      "   0.02615168  0.01612611 -0.01361516  0.00948609 -0.00944703 -0.00479152\n",
      "   0.0104244   0.00075505  0.01611297 -0.00446031 -0.01094205 -0.00576685]]\n"
     ]
    }
   ],
   "execution_count": 13
  },
  {
   "cell_type": "markdown",
   "id": "baac17a5-b788-4a39-b271-f9cc8b95f62e",
   "metadata": {},
   "source": [
    "预期输出：\n",
    "注意：数组Y_hat的元素可能因为初始参数不同而不同。如果想得到完全相同的结果，尝试重新启动内核并重新运行。"
   ]
  },
  {
   "cell_type": "code",
   "id": "683e5d09-5b10-4fe2-90aa-9461d054aba3",
   "metadata": {
    "ExecuteTime": {
     "end_time": "2025-03-04T06:41:26.520189Z",
     "start_time": "2025-03-04T06:41:26.513779Z"
    }
   },
   "source": [
    "w3_unittest.test_forward_propagation(forward_propagation)"
   ],
   "outputs": [
    {
     "name": "stdout",
     "output_type": "stream",
     "text": [
      "\u001B[92m All tests passed\n"
     ]
    }
   ],
   "execution_count": 14
  },
  {
   "cell_type": "markdown",
   "id": "1cd00b98-480c-48e4-8e21-bd89e0ff7863",
   "metadata": {},
   "source": [
    "请记住，权重只是用一些随机值初始化的，所有模型尚未经过训练。\n",
    "定义一个成本函数，用于训练模型。\n",
    "$$\\mathcal{L}\\left(w, b\\right)  = \\frac{1}{2m}\\sum_{i=1}^{m} \\left(\\hat{y}^{(i)} - y^{(i)}\\right)^2$$"
   ]
  },
  {
   "cell_type": "code",
   "id": "c4c58690-c429-4754-8437-9c0d37a97ff8",
   "metadata": {
    "ExecuteTime": {
     "end_time": "2025-03-04T06:41:26.589496Z",
     "start_time": "2025-03-04T06:41:26.584457Z"
    }
   },
   "source": [
    "def compute_cost(Y_hat,Y):\n",
    "    \"\"\"\n",
    "    输入：\n",
    "    Y_hat-- 形状神经网络的输出（n_y，示例数）\n",
    "    Y -- 标签的形状向量(n_y,示例数)\n",
    "\n",
    "    返回：\n",
    "    带入样本后，成本函数值\n",
    "    \"\"\"\n",
    "    # 如果是二维矩阵，m 是 Y的列数\n",
    "    m =Y.shape[1]\n",
    "    cost = np.sum((Y_hat - Y ) ** 2)/(2*m)\n",
    "\n",
    "    return cost"
   ],
   "outputs": [],
   "execution_count": 15
  },
  {
   "cell_type": "code",
   "id": "b8e5a4e3-e2d8-4092-8e34-a7a06421a8fa",
   "metadata": {
    "ExecuteTime": {
     "end_time": "2025-03-04T06:41:26.659258Z",
     "start_time": "2025-03-04T06:41:26.654032Z"
    }
   },
   "source": [
    "print(\"cost = \" + str(compute_cost(Y_hat,Y)))"
   ],
   "outputs": [
    {
     "name": "stdout",
     "output_type": "stream",
     "text": [
      "cost = 790.2189412622606\n"
     ]
    }
   ],
   "execution_count": 16
  },
  {
   "cell_type": "markdown",
   "id": "b9edb5ff-c65f-46b3-bcd2-ad18c55cd260",
   "metadata": {},
   "source": [
    "尽可能减少成本函数的值（因为这代表预测值和实际值的误差）\n",
    "\n",
    "为了实现这一点，需要进行反向传播。目前，可以使用上传工具箱的函数`train_nn()`来获取循环每一步的更新参数。"
   ]
  },
  {
   "cell_type": "code",
   "id": "d4ab8a9d-f190-47ef-a9a4-5d7ce6b57ea4",
   "metadata": {
    "ExecuteTime": {
     "end_time": "2025-03-04T06:41:26.732276Z",
     "start_time": "2025-03-04T06:41:26.725705Z"
    }
   },
   "source": [
    "parameters = w3_tools.train_nn(parameters,Y_hat,X,Y)\n",
    "\n",
    "print(\"W = \" + str(parameters[\"W\"]))\n",
    "print(\"b = \" + str(parameters[\"b\"]))"
   ],
   "outputs": [
    {
     "name": "stdout",
     "output_type": "stream",
     "text": [
      "W = [[43.63366703]]\n",
      "b = [[0.17926448]]\n"
     ]
    }
   ],
   "execution_count": 17
  },
  {
   "cell_type": "markdown",
   "id": "c742f461-a954-482a-a232-6c59d3988601",
   "metadata": {},
   "source": [
    "## 在nn_model()中整合之前的函数"
   ]
  },
  {
   "cell_type": "markdown",
   "id": "d70d22b9-fa8e-407e-9b3c-0954b40065ee",
   "metadata": {},
   "source": [
    "在`nn_model()`中构建神经网络。\n",
    "\n",
    "神经网络模型必须按照正确的顺序使用之前的函数。"
   ]
  },
  {
   "cell_type": "code",
   "id": "58a2d254-cb2d-44c0-a0ba-3816fe01e906",
   "metadata": {
    "ExecuteTime": {
     "end_time": "2025-03-04T06:41:26.842180Z",
     "start_time": "2025-03-04T06:41:26.835452Z"
    }
   },
   "source": [
    "def nn_model(X,Y,num_iterations=10,print_cost=False):\n",
    "    n_x = layer_sizes(X,Y)[0]\n",
    "    n_y = layer_sizes(X,Y)[1]\n",
    "\n",
    "    # 初始化参数\n",
    "    parameters = initialize_parameters(n_x,n_y)\n",
    "\n",
    "    for  i in range(0,num_iterations):\n",
    "        Y_hat = np.dot(parameters[\"W\"],X) + parameters[\"b\"]\n",
    "\n",
    "        # 成本函数. 输入:\"Y_hat,Y\".Outputs:\"Y_hat\".\n",
    "        cost = np.sum((Y_hat - Y)**2)/(2*Y.shape[1])\n",
    "\n",
    "        # 更新参数\n",
    "        parameters = w3_tools.train_nn(parameters,Y_hat,X,Y)\n",
    "\n",
    "        # 打印每次迭代的成本函数\n",
    "        if print_cost:\n",
    "            print(\"迭代后的成本 %i : %f\" % (i,cost))\n",
    "\n",
    "    return parameters"
   ],
   "outputs": [],
   "execution_count": 18
  },
  {
   "cell_type": "code",
   "id": "488520ce-0eb5-468b-9b44-d3b770d415e1",
   "metadata": {
    "ExecuteTime": {
     "end_time": "2025-03-04T06:41:26.885922Z",
     "start_time": "2025-03-04T06:41:26.878926Z"
    }
   },
   "source": [
    "parameters = nn_model(X, Y, num_iterations=15, print_cost=True)\n",
    "print(\"W = \" + str(parameters[\"W\"]))\n",
    "print(\"b = \" + str(parameters[\"b\"]))\n",
    "\n",
    "W_simple = parameters[\"W\"]\n",
    "b_simple = parameters[\"b\"]"
   ],
   "outputs": [
    {
     "name": "stdout",
     "output_type": "stream",
     "text": [
      "迭代后的成本 0 : 791.431703\n",
      "迭代后的成本 1 : 176.530000\n",
      "迭代后的成本 2 : 143.772255\n",
      "迭代后的成本 3 : 141.433606\n",
      "迭代后的成本 4 : 141.248744\n",
      "迭代后的成本 5 : 141.233728\n",
      "迭代后的成本 6 : 141.232500\n",
      "迭代后的成本 7 : 141.232400\n",
      "迭代后的成本 8 : 141.232391\n",
      "迭代后的成本 9 : 141.232391\n",
      "迭代后的成本 10 : 141.232391\n",
      "迭代后的成本 11 : 141.232391\n",
      "迭代后的成本 12 : 141.232391\n",
      "迭代后的成本 13 : 141.232391\n",
      "迭代后的成本 14 : 141.232391\n",
      "W = [[35.71958208]]\n",
      "b = [[2.2893077]]\n"
     ]
    }
   ],
   "execution_count": 19
  },
  {
   "cell_type": "code",
   "id": "4152a644-d163-456b-977c-7753ac781648",
   "metadata": {
    "ExecuteTime": {
     "end_time": "2025-03-04T06:41:26.961408Z",
     "start_time": "2025-03-04T06:41:26.948517Z"
    }
   },
   "source": [
    "# 在单元测试中不检查实际值，由于随机初始化\n",
    "w3_unittest.test_nn_model(nn_model)"
   ],
   "outputs": [
    {
     "name": "stdout",
     "output_type": "stream",
     "text": [
      "\u001B[92m All tests passed\n"
     ]
    }
   ],
   "execution_count": 20
  },
  {
   "cell_type": "markdown",
   "id": "2c28f864-44b8-44d8-8642-a41353c2a0cf",
   "metadata": {},
   "source": [
    "可以看到，经过几次迭代后，代价函数不再变化(模型收敛)\n",
    "\n",
    "注意：这是一个非常简单的模型。实际上，模型并不那么快收敛。\n",
    "\n",
    "最终模型参数可用于进行预测。让我们绘制线性回归线和一些预测点。回归线为红色，预测点为蓝色。"
   ]
  },
  {
   "cell_type": "code",
   "id": "f199c378-4a83-42f6-b8cf-afe2208011ed",
   "metadata": {
    "ExecuteTime": {
     "end_time": "2025-03-04T06:41:27.195495Z",
     "start_time": "2025-03-04T06:41:27.036932Z"
    }
   },
   "source": [
    "X_pred = np.array([-0.95, 0.2, 1.5])\n",
    "\n",
    "fig, ax = plt.subplots()\n",
    "plt.scatter(X, Y, color = \"black\")\n",
    "\n",
    "plt.xlabel(\"$x$\")\n",
    "plt.ylabel(\"$y$\")\n",
    "    \n",
    "X_line = np.arange(np.min(X[0,:]),np.max(X[0,:])*1.1, 0.1)\n",
    "ax.plot(X_line, W_simple[0,0] * X_line + b_simple[0,0], \"r\")\n",
    "ax.plot(X_pred, W_simple[0,0] * X_pred + b_simple[0,0], \"bo\")\n",
    "plt.plot()\n",
    "plt.show()"
   ],
   "outputs": [
    {
     "data": {
      "text/plain": [
       "<Figure size 640x480 with 1 Axes>"
      ],
      "image/png": "[encoded data removed]"
     },
     "metadata": {},
     "output_type": "display_data"
    }
   ],
   "execution_count": 21
  },
  {
   "cell_type": "markdown",
   "id": "4e31e408-f04e-458d-8a9b-e3acf35d45c7",
   "metadata": {},
   "source": [
    "## 多元线性回归\n",
    "模型不会那么简单。在某些情况下，输出不仅仅取决一个变量。如果是两个输入变量呢？"
   ]
  },
  {
   "cell_type": "markdown",
   "id": "738bffbc-0c3e-4f87-bb13-3633088ae725",
   "metadata": {},
   "source": [
    "多元线性回归模型，包含两个自变量x1，x2，可以表示为\n",
    "$$\\hat{y} = w_1x_1 + w_2x_2 + b = Wx + b,\\tag{6}$$\n",
    "输入向量x = [x1,x2]与参数向量W = [W1,W2]的点积为W · x，标量参数b是截距。\n",
    "\n",
    "目标：找到一个使成本函数最小的参数\"w1,w2和b\"\n",
    "\n",
    "可以使用更复杂的神经网络"
   ]
  },
  {
   "cell_type": "markdown",
   "id": "274821f2-25e5-4637-9a36-f8dd41d512bb",
   "metadata": {},
   "source": [
    "还是一个感知器，但现在又两个输入节点：\n",
    "<img src=\"images/nn_model_linear_regression_multiple.png\" style=\"width:420px;\">\n",
    "感知器对每个训练样本$x^{(i)} = \\begin{bmatrix} x_1^{(i)} & x_2^{(i)}\\end{bmatrix}$ 可以用点积表示\n",
    "$$z^{(i)} = w_1x_1^{(i)} + w_2x_2^{(i)} + b = Wx^{(i)} + b,\\tag{7}$$  \n",
    "权重在向量W = [w1,w2]中，偏置b是一个标量。输出层只有一个节点。\n",
    "\n",
    "将训练样本放在矩阵(2 × m )的矩阵X，将$x_1^{(i)}$和$x_2^{(i)}$放到列中， $W$ ($1 \\times 2$) 和 $X$ ($2 \\times m$) 得到一个 ($1 \\times m$) 的向量\n",
    "$$WX = \n",
    "\\begin{bmatrix} w_1 & w_2\\end{bmatrix} \n",
    "\\begin{bmatrix} \n",
    "x_1^{(1)} & x_1^{(2)} & \\dots & x_1^{(m)} \\\\ \n",
    "x_2^{(1)} & x_2^{(2)} & \\dots & x_2^{(m)} \\\\ \\end{bmatrix}\n",
    "=\\begin{bmatrix} \n",
    "w_1x_1^{(1)} + w_2x_2^{(1)} & \n",
    "w_1x_1^{(2)} + w_2x_2^{(2)} & \\dots & \n",
    "w_1x_1^{(m)} + w_2x_2^{(m)}\\end{bmatrix}.$$\n",
    "\n",
    "并且该模型可以表示为\n",
    "\\begin{align}\n",
    "Z &=  W X + b,\\\\\n",
    "\\hat{Y} &= Z,\n",
    "\\tag{8}\\end{align}\n",
    "\n",
    "b被广播道大小为(1✖m)的向量中。这些正是在正向传播步骤中的运算。"
   ]
  },
  {
   "cell_type": "markdown",
   "id": "c9323b5b-5520-42e2-83ce-e3a5d52e7e99",
   "metadata": {},
   "source": [
    "## 数据集\n",
    "让我们为 Kaggle 数据集房价建立一个线性回归模型，该数据集保存在文件 data/house_prices_train.csv中。您将使用两个字段——地面居住面积（ GrLivArea ，平方英尺）和整体材料及装修质量评分（ OverallQual ，1-10）来预测销售价格（ SalePrice ，美元）。\n",
    "\n",
    "打开数据集可以使用 pandas 函数 read_csv ："
   ]
  },
  {
   "cell_type": "code",
   "id": "45351ba3-8584-4991-8fc4-51d9e3dd2b03",
   "metadata": {
    "ExecuteTime": {
     "end_time": "2025-03-04T06:41:27.263837Z",
     "start_time": "2025-03-04T06:41:27.227493Z"
    }
   },
   "source": [
    "df = pd.read_csv('data/house_prices_train.csv')"
   ],
   "outputs": [],
   "execution_count": 22
  },
  {
   "cell_type": "markdown",
   "id": "80ea23f1-7127-4107-bb4e-3be236af8225",
   "metadata": {},
   "source": [
    "数据现在已保存为变量 df ，作为一个 DataFrame，这是最常用的 pandas 对象。它是一个具有不同类型列的二维标记数据结构。你可以将其视为表格或电子表格。完整文档可在此处找到。\n",
    "\n",
    "选择所需的字段并将它们保存在变量 X_multi ， Y_multi 中："
   ]
  },
  {
   "cell_type": "code",
   "id": "65dc4b80-8ad0-468e-8cce-3379c2645e5e",
   "metadata": {
    "ExecuteTime": {
     "end_time": "2025-03-04T06:41:27.294669Z",
     "start_time": "2025-03-04T06:41:27.289170Z"
    }
   },
   "source": [
    "X_multi = df[['GrLivArea','OverallQual']]\n",
    "Y_multi = df['SalePrice']"
   ],
   "outputs": [],
   "execution_count": 23
  },
  {
   "cell_type": "markdown",
   "id": "a8c7faa8-d6d6-4d78-ae0c-1c2b21545349",
   "metadata": {},
   "source": [
    "查看数据"
   ]
  },
  {
   "cell_type": "code",
   "id": "c6a00f94-3c93-45aa-b47b-9ac36521c2e2",
   "metadata": {
    "ExecuteTime": {
     "end_time": "2025-03-04T06:41:27.330182Z",
     "start_time": "2025-03-04T06:41:27.320811Z"
    }
   },
   "source": [
    "print(f\"X_multi:\\n{X_multi}\\n\")\n",
    "print(f\"Y_multi:\\n{Y_multi}\\n\")"
   ],
   "outputs": [
    {
     "name": "stdout",
     "output_type": "stream",
     "text": [
      "X_multi:\n",
      "      GrLivArea  OverallQual\n",
      "0          1710            7\n",
      "1          1262            6\n",
      "2          1786            7\n",
      "3          1717            7\n",
      "4          2198            8\n",
      "...         ...          ...\n",
      "1455       1647            6\n",
      "1456       2073            6\n",
      "1457       2340            7\n",
      "1458       1078            5\n",
      "1459       1256            5\n",
      "\n",
      "[1460 rows x 2 columns]\n",
      "\n",
      "Y_multi:\n",
      "0       208500\n",
      "1       181500\n",
      "2       223500\n",
      "3       140000\n",
      "4       250000\n",
      "         ...  \n",
      "1455    175000\n",
      "1456    210000\n",
      "1457    266500\n",
      "1458    142125\n",
      "1459    147500\n",
      "Name: SalePrice, Length: 1460, dtype: int64\n",
      "\n"
     ]
    }
   ],
   "execution_count": 24
  },
  {
   "cell_type": "markdown",
   "id": "6feea525-8be4-40b5-a305-fc6bebec01a6",
   "metadata": {},
   "source": [
    "原始数据具有不同单位，为了使神经网络训练高效，需要将它们转换为相同单位。实现这一目标的一种常见方法称为归一化：从数组的每个元素中减去数组的平均值，然后除以标准差（一组值的分散程度的统计量）。"
   ]
  },
  {
   "cell_type": "markdown",
   "id": "07f2fd99-0845-4680-9185-df60a9f7c75e",
   "metadata": {},
   "source": [
    "以前np.std 作用于 pandas 数据框时默认按列计算标准差，而未来版本会对整个数据框（即行和列两个维度）计算标准差并返回一个标量值。\n",
    "\n",
    "Ai给出的解决方案：\n",
    "有两种解决方法，你可以根据具体需求选择：\n",
    "使用 numpy 数组：将 pandas 数据框转换为 numpy 数组，这样就不会受到 pandas 函数行为变化的影响。\n",
    "指定 axis 参数：在 np.std 函数中明确指定 axis 参数，确保按列计算标准差。"
   ]
  },
  {
   "cell_type": "code",
   "id": "10eb8b85-471f-4be1-b963-7a1b0c715c78",
   "metadata": {
    "ExecuteTime": {
     "end_time": "2025-03-04T06:41:27.385657Z",
     "start_time": "2025-03-04T06:41:27.375037Z"
    }
   },
   "source": [
    "X_multi_norm = (X_multi - np.mean(X_multi,axis=0))/np.std(X_multi,axis=0)\n",
    "Y_multi_norm = (Y_multi - np.mean(Y_multi,axis=0))/np.std(Y_multi,axis=0)\n"
   ],
   "outputs": [],
   "execution_count": 25
  },
  {
   "cell_type": "markdown",
   "id": "c9be5d28-ad5b-4e1e-b7a1-0ea38dd2618a",
   "metadata": {},
   "source": [
    "将结果转换为Numpy数组，转置X_multi_norm 以获得形状为(2×m)的数组，并重塑Y_multi_norm 以使其形状变为(1×m)"
   ]
  },
  {
   "cell_type": "code",
   "id": "9641ecd4-7186-447a-97b4-cbaaee9514cd",
   "metadata": {
    "ExecuteTime": {
     "end_time": "2025-03-04T06:41:27.443552Z",
     "start_time": "2025-03-04T06:41:27.436984Z"
    }
   },
   "source": [
    "X_multi_norm = np.array(X_multi_norm).T\n",
    "Y_multi_norm = np.array(Y_multi_norm).reshape((1, len(Y_multi_norm)))\n",
    "\n",
    "print ('X的形状: ' + str(X_multi_norm.shape))\n",
    "print ('Y的形状: ' + str(Y_multi_norm.shape))\n",
    "print(f\"我有m={(X_multi_norm.shape[1])}个训练样本\")"
   ],
   "outputs": [
    {
     "name": "stdout",
     "output_type": "stream",
     "text": [
      "X的形状: (2, 1460)\n",
      "Y的形状: (1, 1460)\n",
      "我有m=1460个训练样本\n"
     ]
    }
   ],
   "execution_count": 26
  },
  {
   "cell_type": "markdown",
   "id": "b2609d4a-b63e-4fe3-9fc2-6d13c740648b",
   "metadata": {},
   "source": [
    "## 多元线性回归神经网络模型的性能\n",
    "魔法在于现在不需要在神经网络实现中更改任何内容！如果传递新的数据集X_multi_norm 和 Y_multi_norm，输入层大小n等于2，其余实现将保持完全相同。"
   ]
  },
  {
   "cell_type": "markdown",
   "id": "e02b5c95-b706-4d11-97f9-39f1480f4835",
   "metadata": {},
   "source": [
    "## 练习\n",
    "运行上述构建的神经网络模型`nn_model()`进行`100`次迭代，传递存储数组X_multi_norm和Y_multi_norm中的训练数据集"
   ]
  },
  {
   "cell_type": "code",
   "id": "6783edbf-103b-4f91-b946-b7b8937c7497",
   "metadata": {
    "ExecuteTime": {
     "end_time": "2025-03-04T06:41:27.492494Z",
     "start_time": "2025-03-04T06:41:27.479599Z"
    }
   },
   "source": [
    "### START CODE HERE ### (~ 1 line of code)\n",
    "parameters_multi = nn_model(X_multi_norm, Y_multi_norm, num_iterations=100, print_cost=True)\n",
    "### END CODE HERE ###\n",
    "\n",
    "print(\"W = \" + str(parameters_multi[\"W\"]))\n",
    "print(\"b = \" + str(parameters_multi[\"b\"]))\n",
    "\n",
    "W_multi = parameters_multi[\"W\"]\n",
    "b_multi = parameters_multi[\"b\"]"
   ],
   "outputs": [
    {
     "name": "stdout",
     "output_type": "stream",
     "text": [
      "迭代后的成本 0 : 0.489797\n",
      "迭代后的成本 1 : 0.429192\n",
      "迭代后的成本 2 : 0.380299\n",
      "迭代后的成本 3 : 0.340051\n",
      "迭代后的成本 4 : 0.306705\n",
      "迭代后的成本 5 : 0.279020\n",
      "迭代后的成本 6 : 0.256020\n",
      "迭代后的成本 7 : 0.236908\n",
      "迭代后的成本 8 : 0.221025\n",
      "迭代后的成本 9 : 0.207827\n",
      "迭代后的成本 10 : 0.196858\n",
      "迭代后的成本 11 : 0.187743\n",
      "迭代后的成本 12 : 0.180169\n",
      "迭代后的成本 13 : 0.173874\n",
      "迭代后的成本 14 : 0.168642\n",
      "迭代后的成本 15 : 0.164295\n",
      "迭代后的成本 16 : 0.160682\n",
      "迭代后的成本 17 : 0.157680\n",
      "迭代后的成本 18 : 0.155185\n",
      "迭代后的成本 19 : 0.153111\n",
      "迭代后的成本 20 : 0.151388\n",
      "迭代后的成本 21 : 0.149956\n",
      "迭代后的成本 22 : 0.148766\n",
      "迭代后的成本 23 : 0.147777\n",
      "迭代后的成本 24 : 0.146955\n",
      "迭代后的成本 25 : 0.146272\n",
      "迭代后的成本 26 : 0.145705\n",
      "迭代后的成本 27 : 0.145233\n",
      "迭代后的成本 28 : 0.144841\n",
      "迭代后的成本 29 : 0.144515\n",
      "迭代后的成本 30 : 0.144245\n",
      "迭代后的成本 31 : 0.144020\n",
      "迭代后的成本 32 : 0.143833\n",
      "迭代后的成本 33 : 0.143677\n",
      "迭代后的成本 34 : 0.143548\n",
      "迭代后的成本 35 : 0.143441\n",
      "迭代后的成本 36 : 0.143352\n",
      "迭代后的成本 37 : 0.143278\n",
      "迭代后的成本 38 : 0.143216\n",
      "迭代后的成本 39 : 0.143165\n",
      "迭代后的成本 40 : 0.143123\n",
      "迭代后的成本 41 : 0.143087\n",
      "迭代后的成本 42 : 0.143058\n",
      "迭代后的成本 43 : 0.143033\n",
      "迭代后的成本 44 : 0.143013\n",
      "迭代后的成本 45 : 0.142996\n",
      "迭代后的成本 46 : 0.142982\n",
      "迭代后的成本 47 : 0.142971\n",
      "迭代后的成本 48 : 0.142961\n",
      "迭代后的成本 49 : 0.142953\n",
      "迭代后的成本 50 : 0.142946\n",
      "迭代后的成本 51 : 0.142941\n",
      "迭代后的成本 52 : 0.142936\n",
      "迭代后的成本 53 : 0.142932\n",
      "迭代后的成本 54 : 0.142929\n",
      "迭代后的成本 55 : 0.142926\n",
      "迭代后的成本 56 : 0.142924\n",
      "迭代后的成本 57 : 0.142922\n",
      "迭代后的成本 58 : 0.142921\n",
      "迭代后的成本 59 : 0.142920\n",
      "迭代后的成本 60 : 0.142919\n",
      "迭代后的成本 61 : 0.142918\n",
      "迭代后的成本 62 : 0.142917\n",
      "迭代后的成本 63 : 0.142916\n",
      "迭代后的成本 64 : 0.142916\n",
      "迭代后的成本 65 : 0.142915\n",
      "迭代后的成本 66 : 0.142915\n",
      "迭代后的成本 67 : 0.142915\n",
      "迭代后的成本 68 : 0.142915\n",
      "迭代后的成本 69 : 0.142914\n",
      "迭代后的成本 70 : 0.142914\n",
      "迭代后的成本 71 : 0.142914\n",
      "迭代后的成本 72 : 0.142914\n",
      "迭代后的成本 73 : 0.142914\n",
      "迭代后的成本 74 : 0.142914\n",
      "迭代后的成本 75 : 0.142914\n",
      "迭代后的成本 76 : 0.142914\n",
      "迭代后的成本 77 : 0.142914\n",
      "迭代后的成本 78 : 0.142914\n",
      "迭代后的成本 79 : 0.142914\n",
      "迭代后的成本 80 : 0.142914\n",
      "迭代后的成本 81 : 0.142913\n",
      "迭代后的成本 82 : 0.142913\n",
      "迭代后的成本 83 : 0.142913\n",
      "迭代后的成本 84 : 0.142913\n",
      "迭代后的成本 85 : 0.142913\n",
      "迭代后的成本 86 : 0.142913\n",
      "迭代后的成本 87 : 0.142913\n",
      "迭代后的成本 88 : 0.142913\n",
      "迭代后的成本 89 : 0.142913\n",
      "迭代后的成本 90 : 0.142913\n",
      "迭代后的成本 91 : 0.142913\n",
      "迭代后的成本 92 : 0.142913\n",
      "迭代后的成本 93 : 0.142913\n",
      "迭代后的成本 94 : 0.142913\n",
      "迭代后的成本 95 : 0.142913\n",
      "迭代后的成本 96 : 0.142913\n",
      "迭代后的成本 97 : 0.142913\n",
      "迭代后的成本 98 : 0.142913\n",
      "迭代后的成本 99 : 0.142913\n",
      "W = [[0.36946186 0.5718172 ]]\n",
      "b = [[1.45271922e-16]]\n"
     ]
    }
   ],
   "execution_count": 27
  },
  {
   "cell_type": "code",
   "id": "271cbb8f-8c09-4f82-9951-3d34a659178f",
   "metadata": {
    "ExecuteTime": {
     "end_time": "2025-03-04T06:41:27.522341Z",
     "start_time": "2025-03-04T06:41:27.510702Z"
    }
   },
   "source": [
    "# 注意 \n",
    "# 实际值随机初始化所以不进行检查\n",
    "w3_unittest.test_multi(nn_model, X_multi_norm, Y_multi_norm, parameters_multi)"
   ],
   "outputs": [
    {
     "name": "stdout",
     "output_type": "stream",
     "text": [
      "\u001B[92m All tests passed\n"
     ]
    }
   ],
   "execution_count": 28
  },
  {
   "cell_type": "markdown",
   "id": "6a8b619a-351a-4e33-ad29-bad97b15b76d",
   "metadata": {},
   "source": [
    "记住，初始数据集已经归一化，为了进行预测，需要归一化原始数据，使用获得的线性回归系数计算预测，然后对结果进行反归一化(归一化的逆过程)"
   ]
  },
  {
   "cell_type": "code",
   "id": "81f414c3-ac4d-4f1b-9eef-ef778ed88c2a",
   "metadata": {
    "ExecuteTime": {
     "end_time": "2025-03-04T06:41:27.582563Z",
     "start_time": "2025-03-04T06:41:27.572293Z"
    }
   },
   "source": [
    "# 准备预测数据\n",
    "# 转置后，两行三列，每一列对应一个样本特征，每一特征包括[数值,评分]\n",
    "X_pred_multi = np.array([[1710, 7], [1200, 6], [2200, 8]]).T\n",
    "# 数据归一化\n",
    "X_multi_mean = np.array(np.mean(X_multi, axis=0)).reshape((2, 1))\n",
    "X_multi_std = np.array(np.std(X_multi, axis=0)).reshape((2, 1))\n",
    "X_pred_multi_norm = (X_pred_multi - X_multi_mean) / X_multi_std\n",
    "\n",
    "# 模型预测\n",
    "Y_pred_multi_norm = np.matmul(W_multi, X_pred_multi_norm) + b_multi\n",
    "# 结果反归一化\n",
    "Y_pred_multi = Y_pred_multi_norm * np.std(Y_multi) + np.mean(Y_multi)\n",
    "\n",
    "# 打印预测结果\n",
    "print(f\"Ground living area, square feet:\\n{X_pred_multi[0]}\")\n",
    "print(f\"Rates of the overall quality of material and finish, 1 - 10:\\n{X_pred_multi[1]}\")\n",
    "print(f\"Predictions of sales price, $:\\n{np.round(Y_pred_multi)}\")"
   ],
   "outputs": [
    {
     "name": "stdout",
     "output_type": "stream",
     "text": [
      "Ground living area, square feet:\n",
      "[1710 1200 2200]\n",
      "Rates of the overall quality of material and finish, 1 - 10:\n",
      "[7 6 8]\n",
      "Predictions of sales price, $:\n",
      "[[221371. 160039. 281587.]]\n"
     ]
    }
   ],
   "execution_count": 29
  },
  {
   "cell_type": "code",
   "id": "b8bba8da-8b03-471a-baa9-cde28aa1ea8f",
   "metadata": {
    "ExecuteTime": {
     "end_time": "2025-03-04T06:41:27.646433Z",
     "start_time": "2025-03-04T06:41:27.643993Z"
    }
   },
   "source": [],
   "outputs": [],
   "execution_count": null
  }
 ],
 "metadata": {
  "kernelspec": {
   "display_name": "Python 3 (ipykernel)",
   "language": "python",
   "name": "python3"
  },
  "language_info": {
   "codemirror_mode": {
    "name": "ipython",
    "version": 3
   },
   "file_extension": ".py",
   "mimetype": "text/x-python",
   "name": "python",
   "nbconvert_exporter": "python",
   "pygments_lexer": "ipython3",
   "version": "3.13.2"
  }
 },
 "nbformat": 4,
 "nbformat_minor": 5
}
