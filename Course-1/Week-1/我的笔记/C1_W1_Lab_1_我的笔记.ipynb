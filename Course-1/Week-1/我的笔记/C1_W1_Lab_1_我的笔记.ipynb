{
 "cells": [
  {
   "cell_type": "markdown",
   "id": "2fe1bc09-954f-4103-bfae-bd1d111cf611",
   "metadata": {},
   "source": [
    "## 导包"
   ]
  },
  {
   "cell_type": "code",
   "id": "2ac1e406-fce9-42f0-8ce4-a5d47fb453ae",
   "metadata": {
    "ExecuteTime": {
     "end_time": "2025-02-13T09:52:45.531693Z",
     "start_time": "2025-02-13T09:52:45.528047Z"
    }
   },
   "source": [
    "import numpy as np"
   ],
   "outputs": [],
   "execution_count": 36
  },
  {
   "cell_type": "markdown",
   "id": "3f445603-7951-4505-ac1c-3b5412268bc0",
   "metadata": {},
   "source": [
    "## 使用Numpy数组的优势\n",
    "\n",
    "Numpy中数组的对象成为ndarray，意思是n维数组，一维数组：1-D。数组中所有元素都属于同一类型"
   ]
  },
  {
   "cell_type": "code",
   "id": "a804f18a-1fbb-4f0b-a2fa-bbf6fcba92c7",
   "metadata": {
    "ExecuteTime": {
     "end_time": "2025-02-13T09:52:45.604119Z",
     "start_time": "2025-02-13T09:52:45.593888Z"
    }
   },
   "source": [
    "one_d_arr = np.array([10,12])\n",
    "print(one_d_arr)"
   ],
   "outputs": [
    {
     "name": "stdout",
     "output_type": "stream",
     "text": [
      "[10 12]\n"
     ]
    }
   ],
   "execution_count": 37
  },
  {
   "cell_type": "markdown",
   "id": "790a7663-2834-4c84-b2b1-cbb470659737",
   "metadata": {
    "ExecuteTime": {
     "end_time": "2025-02-13T04:16:51.233021Z",
     "start_time": "2025-02-13T04:16:51.230788Z"
    }
   },
   "source": [
    "## 创建Numpy数组"
   ]
  },
  {
   "cell_type": "markdown",
   "id": "69ffee84-c432-42a3-92c6-a6b0d0a35c43",
   "metadata": {},
   "source": [
    "第一种方法，函数array创建一个1-D 数组，该函数将值列表作为参数并返回1-D 数组"
   ]
  },
  {
   "cell_type": "code",
   "id": "1579aac6-5fdc-481a-9545-5180dfae33bb",
   "metadata": {
    "ExecuteTime": {
     "end_time": "2025-02-13T09:52:45.765016Z",
     "start_time": "2025-02-13T09:52:45.759937Z"
    }
   },
   "source": [
    "a = np.array([1,2,3])\n",
    "print(a)\n"
   ],
   "outputs": [
    {
     "name": "stdout",
     "output_type": "stream",
     "text": [
      "[1 2 3]\n"
     ]
    }
   ],
   "execution_count": 38
  },
  {
   "cell_type": "markdown",
   "id": "08547789-0dbb-44a3-a996-905de04a3eba",
   "metadata": {},
   "source": [
    "第二种方法，np.arange()。返回给定区间内均匀分布的值数组。要了解有关此函数采用的参数的更多信息，Jupyter Notebook 中有一个强大的功能，您只需在函数后面单击按键盘上的 shift+tab 即可访问任何函数的文档。尝试一下 np.arange（） 的内置文档。"
   ]
  },
  {
   "cell_type": "code",
   "id": "99f1be6f-c7c5-41ee-8001-bad9eee5cc2f",
   "metadata": {
    "ExecuteTime": {
     "end_time": "2025-02-13T09:52:45.883578Z",
     "start_time": "2025-02-13T09:52:45.877866Z"
    }
   },
   "source": [
    "# 默认步长是1，不填入start默认从0开始，stop不包含\n",
    "b = np.arange(3)\n",
    "print(b)\n"
   ],
   "outputs": [
    {
     "name": "stdout",
     "output_type": "stream",
     "text": [
      "[0 1 2]\n"
     ]
    }
   ],
   "execution_count": 39
  },
  {
   "cell_type": "code",
   "id": "b8af4525-a848-412f-b027-b3e72355732e",
   "metadata": {
    "ExecuteTime": {
     "end_time": "2025-02-13T09:52:45.939437Z",
     "start_time": "2025-02-13T09:52:45.932573Z"
    }
   },
   "source": [
    "c = np.arange(1,20,3)\n",
    "print(c)"
   ],
   "outputs": [
    {
     "name": "stdout",
     "output_type": "stream",
     "text": [
      "[ 1  4  7 10 13 16 19]\n"
     ]
    }
   ],
   "execution_count": 40
  },
  {
   "cell_type": "markdown",
   "id": "1125dc01-578c-4383-96bd-77825b3e5276",
   "metadata": {},
   "source": [
    "如果想创建一个在0到100的区间内具有五个均匀分布值的数组，函数必须采用3个参数，起始数字，最终数字和数组中的元素数。np.linspace()专门执行此操作"
   ]
  },
  {
   "cell_type": "code",
   "id": "156e0170-04c4-49a7-8669-7368fc9d1f8f",
   "metadata": {
    "ExecuteTime": {
     "end_time": "2025-02-13T09:52:45.999554Z",
     "start_time": "2025-02-13T09:52:45.994620Z"
    }
   },
   "source": [
    "lin_spaced_arr = np.linspace(0,100,5)\n",
    "print(lin_spaced_arr)"
   ],
   "outputs": [
    {
     "name": "stdout",
     "output_type": "stream",
     "text": [
      "[  0.  25.  50.  75. 100.]\n"
     ]
    }
   ],
   "execution_count": 41
  },
  {
   "cell_type": "markdown",
   "id": "688e725c-dab4-4dab-a52a-916c8ac3ffd6",
   "metadata": {},
   "source": [
    "当然，np.arange()也能实现"
   ]
  },
  {
   "cell_type": "code",
   "id": "9ec8ec94-8ee9-479e-8fd3-3d0d65ab96af",
   "metadata": {
    "ExecuteTime": {
     "end_time": "2025-02-13T09:52:46.051312Z",
     "start_time": "2025-02-13T09:52:46.046174Z"
    }
   },
   "source": [
    "d = np.arange(0,101,25)\n",
    "print(d)"
   ],
   "outputs": [
    {
     "name": "stdout",
     "output_type": "stream",
     "text": [
      "[  0  25  50  75 100]\n"
     ]
    }
   ],
   "execution_count": 42
  },
  {
   "cell_type": "markdown",
   "id": "b8131e16-9d56-4fea-8cf9-caacd53ec127",
   "metadata": {},
   "source": [
    "注意到np.linspace()函数的输出以浮点数的形式显示，原因是 NumPy 函数 np.linspace 中值的默认类型是浮点 （np.float64）。您可以使用 dtype 轻松指定数据类型。如果您访问函数的内置文档，您可能会注意到大多数函数都采用可选参数 dtype。除了 float 之外，NumPy 还有其他几种数据类型，例如 int 和 char"
   ]
  },
  {
   "cell_type": "code",
   "id": "24052d20-6035-4849-a1f1-55c535430e27",
   "metadata": {
    "ExecuteTime": {
     "end_time": "2025-02-13T09:52:46.107423Z",
     "start_time": "2025-02-13T09:52:46.100414Z"
    }
   },
   "source": [
    "lin_spaced_arr = np.linspace(0,100,5,dtype =int)\n",
    "print(lin_spaced_arr)"
   ],
   "outputs": [
    {
     "name": "stdout",
     "output_type": "stream",
     "text": [
      "[  0  25  50  75 100]\n"
     ]
    }
   ],
   "execution_count": 43
  },
  {
   "cell_type": "code",
   "id": "1c6a5bfa-ea5a-4010-a3af-19ad4be1af7f",
   "metadata": {
    "ExecuteTime": {
     "end_time": "2025-02-13T09:52:46.198066Z",
     "start_time": "2025-02-13T09:52:46.188496Z"
    }
   },
   "source": [
    "c_int = np.arange(1,20,3,dtype=int)\n",
    "print(c_int)"
   ],
   "outputs": [
    {
     "name": "stdout",
     "output_type": "stream",
     "text": [
      "[ 1  4  7 10 13 16 19]\n"
     ]
    }
   ],
   "execution_count": 44
  },
  {
   "cell_type": "code",
   "id": "9db887a4-b5b9-4283-8c04-ac0427f75dc4",
   "metadata": {
    "ExecuteTime": {
     "end_time": "2025-02-13T09:52:46.292527Z",
     "start_time": "2025-02-13T09:52:46.287189Z"
    }
   },
   "source": [
    "b_float = np.arange(3,dtype=float)\n",
    "print(b_float)"
   ],
   "outputs": [
    {
     "name": "stdout",
     "output_type": "stream",
     "text": [
      "[0. 1. 2.]\n"
     ]
    }
   ],
   "execution_count": 45
  },
  {
   "cell_type": "code",
   "id": "88b8c4cf-29a7-435a-988f-8d23410a3e28",
   "metadata": {
    "ExecuteTime": {
     "end_time": "2025-02-13T09:52:46.339883Z",
     "start_time": "2025-02-13T09:52:46.334653Z"
    }
   },
   "source": [
    "char_arr = np.array(['Welcome to Math for ML!'])\n",
    "print(char_arr)\n",
    "print(char_arr.dtype)"
   ],
   "outputs": [
    {
     "name": "stdout",
     "output_type": "stream",
     "text": [
      "['Welcome to Math for ML!']\n",
      "<U23\n"
     ]
    }
   ],
   "execution_count": 46
  },
  {
   "cell_type": "markdown",
   "id": "5d840988-0a13-4eac-85e5-75c75d11346b",
   "metadata": {},
   "source": [
    "你是否注意到 'char_arr' 数组的数据类型的输出是 '<U23'？\n",
    "这意味着字符串（\" 欢迎来到 Math for ML！''）是一个 23 个字符（23）的 unicode 字符串（'U'） (<). 您可以在 [此处]（https://docs.scipy.org/doc/NumPy-1.13.0/reference/arrays.dtypes.html）了解有关数据类型的更多信息。"
   ]
  },
  {
   "cell_type": "markdown",
   "id": "99e519d2-fbca-47a5-ad74-a12abe7ba0f2",
   "metadata": {},
   "source": [
    "## 有关Numpy数组的更多信息\n",
    "使用numpy的优点之一是，可以使用内置函数轻松创建数组，例如：\n",
    "* np.ones() - 返回一个新的数组，将值设为1.\n",
    "* np.zeros() - 返回一个新的数组，将值设置为0\n",
    "* np.empty() - 返回一个新的未初始化数组,其值也为0\n",
    "* np.random.ran() -返回一个从0~1随机选择值的新数组\n",
    "\n"
   ]
  },
  {
   "cell_type": "code",
   "id": "e49181e9-59aa-432c-86cd-8b2f2dd70fc3",
   "metadata": {
    "ExecuteTime": {
     "end_time": "2025-02-13T09:52:46.394027Z",
     "start_time": "2025-02-13T09:52:46.389646Z"
    }
   },
   "source": [
    "ones_arr = np.ones(3)\n",
    "print(ones_arr)"
   ],
   "outputs": [
    {
     "name": "stdout",
     "output_type": "stream",
     "text": [
      "[1. 1. 1.]\n"
     ]
    }
   ],
   "execution_count": 47
  },
  {
   "cell_type": "code",
   "id": "096329f3-bde0-4eb7-bdce-b99329411507",
   "metadata": {
    "ExecuteTime": {
     "end_time": "2025-02-13T09:52:46.477709Z",
     "start_time": "2025-02-13T09:52:46.472303Z"
    }
   },
   "source": [
    "zeros_arr = np.zeros(3)\n",
    "print(zeros_arr)"
   ],
   "outputs": [
    {
     "name": "stdout",
     "output_type": "stream",
     "text": [
      "[0. 0. 0.]\n"
     ]
    }
   ],
   "execution_count": 48
  },
  {
   "cell_type": "code",
   "id": "209ee176-943b-4235-945d-28b04d0ab891",
   "metadata": {
    "ExecuteTime": {
     "end_time": "2025-02-13T09:52:46.513387Z",
     "start_time": "2025-02-13T09:52:46.507362Z"
    }
   },
   "source": [
    "empt_arr = np.empty(3)\n",
    "print(empt_arr)"
   ],
   "outputs": [
    {
     "name": "stdout",
     "output_type": "stream",
     "text": [
      "[0. 0. 0.]\n"
     ]
    }
   ],
   "execution_count": 49
  },
  {
   "cell_type": "code",
   "id": "a886db0a-7df3-4f35-b2cd-c174b3fd68aa",
   "metadata": {
    "ExecuteTime": {
     "end_time": "2025-02-13T09:52:46.560096Z",
     "start_time": "2025-02-13T09:52:46.554473Z"
    }
   },
   "source": [
    "rand_arr = np.random.rand(3)\n",
    "print(rand_arr)"
   ],
   "outputs": [
    {
     "name": "stdout",
     "output_type": "stream",
     "text": [
      "[0.36621739 0.20637883 0.32231512]\n"
     ]
    }
   ],
   "execution_count": 50
  },
  {
   "cell_type": "markdown",
   "id": "e1177cd0-96fd-4626-ae61-749c28cfa513",
   "metadata": {},
   "source": [
    "## 多维数组\n",
    "使用 NumPy，您还可以创建具有多个维度的数组。在上面的示例中，您处理了一维数组，您可以使用单个索引访问它们的元素。多维数组有多列。将多维数组视为 Excel 表格，其中每一行 / 每一列代表一个维度。 "
   ]
  },
  {
   "cell_type": "code",
   "id": "c78fd6de-afb1-4cd3-8c30-c2d20b8ceadd",
   "metadata": {
    "ExecuteTime": {
     "end_time": "2025-02-13T09:52:46.634607Z",
     "start_time": "2025-02-13T09:52:46.620415Z"
    }
   },
   "source": [
    "two_dim_arr = np.array([[1,2,3],[4,5,6]])\n",
    "print(two_dim_arr)"
   ],
   "outputs": [
    {
     "name": "stdout",
     "output_type": "stream",
     "text": [
      "[[1 2 3]\n",
      " [4 5 6]]\n"
     ]
    }
   ],
   "execution_count": 51
  },
  {
   "cell_type": "markdown",
   "id": "7407eb7e-ed26-4032-bec1-93959e1529a7",
   "metadata": {},
   "source": [
    "创建多维数组的另一种方法是重塑1-D数组，使用np.reshape()可以将前一个数组的元素重新排列成新形状"
   ]
  },
  {
   "cell_type": "code",
   "id": "2a122b5b-857f-462e-8452-55efef3851e3",
   "metadata": {
    "ExecuteTime": {
     "end_time": "2025-02-13T09:52:46.688587Z",
     "start_time": "2025-02-13T09:52:46.683974Z"
    }
   },
   "source": [
    "one_dim_arr = np.array([1,2,3,4,5,6])\n",
    "multi_dim_arr = np.reshape(\n",
    "                one_dim_arr, #要重塑的数组\n",
    "                (2,3) #新数组的维度\n",
    "                )\n",
    "print(multi_dim_arr)"
   ],
   "outputs": [
    {
     "name": "stdout",
     "output_type": "stream",
     "text": [
      "[[1 2 3]\n",
      " [4 5 6]]\n"
     ]
    }
   ],
   "execution_count": 52
  },
  {
   "cell_type": "markdown",
   "id": "5245c202-ff01-42fa-9997-c3e2292041bd",
   "metadata": {},
   "source": [
    "## 查找大小，形状和尺寸\n",
    "在以后的作业中，您将需要知道如何找到数组的大小、维度和形状。这些都是ndarray的atributes，可以按如下方式访问\n",
    "* ndarray.ndim - 存储数组的数字维度。\n",
    "* ndarray.shape - 存储数组的形状，元组中每一个数字都表示每个相应维度的长度。\n",
    "* ndarray.size - 存储数组中的元素数"
   ]
  },
  {
   "cell_type": "code",
   "id": "ae6d9d67-765d-4b5c-b34f-7586413b997d",
   "metadata": {
    "ExecuteTime": {
     "end_time": "2025-02-13T09:52:46.731643Z",
     "start_time": "2025-02-13T09:52:46.726678Z"
    }
   },
   "source": [
    "multi_dim_arr.ndim"
   ],
   "outputs": [
    {
     "data": {
      "text/plain": [
       "2"
      ]
     },
     "execution_count": 53,
     "metadata": {},
     "output_type": "execute_result"
    }
   ],
   "execution_count": 53
  },
  {
   "cell_type": "code",
   "id": "7b02c3a8-4a0d-4681-b1e4-a27b2f58d396",
   "metadata": {
    "ExecuteTime": {
     "end_time": "2025-02-13T09:52:46.772448Z",
     "start_time": "2025-02-13T09:52:46.767262Z"
    }
   },
   "source": [
    "multi_dim_arr.shape"
   ],
   "outputs": [
    {
     "data": {
      "text/plain": [
       "(2, 3)"
      ]
     },
     "execution_count": 54,
     "metadata": {},
     "output_type": "execute_result"
    }
   ],
   "execution_count": 54
  },
  {
   "cell_type": "code",
   "id": "99491606-ff47-4030-b464-875bb32da812",
   "metadata": {
    "ExecuteTime": {
     "end_time": "2025-02-13T09:52:46.816491Z",
     "start_time": "2025-02-13T09:52:46.810642Z"
    }
   },
   "source": [
    "multi_dim_arr.size"
   ],
   "outputs": [
    {
     "data": {
      "text/plain": [
       "6"
      ]
     },
     "execution_count": 55,
     "metadata": {},
     "output_type": "execute_result"
    }
   ],
   "execution_count": 55
  },
  {
   "cell_type": "markdown",
   "id": "ef735552-8fd3-4096-a55f-7c3a26efec33",
   "metadata": {},
   "source": [
    "## 数组数字运算\n",
    "在本节中，您将看到 NumPy 允许您快速对一维和多维数组执行元素加法、减法、乘法和除法。使用每个 '+'、'-' 和 '*' 的数学符号执行作。回想一下，添加 Python 列表的工作方式与附加列表完全不同，因此会生成更长的列表，此外，Python 列表的减法和乘法不起作用。"
   ]
  },
  {
   "cell_type": "code",
   "id": "ab7e4092-39bb-4273-a761-29e55a17f728",
   "metadata": {
    "ExecuteTime": {
     "end_time": "2025-02-13T09:52:46.851921Z",
     "start_time": "2025-02-13T09:52:46.847005Z"
    }
   },
   "source": [
    "arr_1 = np.array([2,4,6])\n",
    "arr_2 = np.array([1,3,5])\n",
    "\n",
    "# 加法运算\n",
    "addition = arr_1 + arr_2\n",
    "print(addition)\n",
    "\n",
    "# 减法运算\n",
    "subtraction = arr_1 - arr_2\n",
    "print(subtraction)\n",
    "\n",
    "# 乘法运算\n",
    "multiplication = arr_1 * arr_2\n",
    "print(multiplication)"
   ],
   "outputs": [
    {
     "name": "stdout",
     "output_type": "stream",
     "text": [
      "[ 3  7 11]\n",
      "[1 1 1]\n",
      "[ 2 12 30]\n"
     ]
    }
   ],
   "execution_count": 56
  },
  {
   "cell_type": "markdown",
   "id": "32c5708d-f51a-425e-896e-11d1accd33ff",
   "metadata": {},
   "source": [
    "## 将向量与标量相乘\n",
    "假设您需要将英里转换为公里。为此，您可以使用到目前为止学到的 NumPy 数组函数。您可以通过在数组 （miles） 和单个数字 （转换率，即标量） 之间执行作来执行此作。由于 1 英里 = 1.6 公里，因此 NumPy 计算每个单元格内的每次乘法。\n",
    "\n",
    "这个概念称为广播，它允许您专门对不同形状的数组执行作。\n",
    "即列表中的每个元素乘以倍率"
   ]
  },
  {
   "cell_type": "code",
   "id": "ae458d09-cd95-4450-b23e-10c46a3c32a2",
   "metadata": {},
   "source": [
    "vector = np.array([1,2])\n",
    "vector *1.6"
   ],
   "outputs": [
    {
     "data": {
      "text/plain": [
       "array([1.6, 3.2])"
      ]
     },
     "execution_count": 57,
     "metadata": {},
     "output_type": "execute_result"
    }
   ],
   "execution_count": 57
  },
  {
   "cell_type": "markdown",
   "id": "05314ff9-a85a-47be-98ca-736a21a7634a",
   "metadata": {},
   "source": [
    "## 索引和切片\n",
    "索引允许从数组从选择特定元素，选择整行/整列或平面，就像你在将来的多维数组分配中看到的那样"
   ]
  },
  {
   "cell_type": "markdown",
   "id": "ec2d1ff1-583b-4c0c-8af9-3a58ae9bd743",
   "metadata": {},
   "source": [
    "## 索引\n",
    "从给定数组中选择特定元素"
   ]
  },
  {
   "cell_type": "code",
   "id": "f0a87d92-8356-4d38-bc97-3c0d1d6f24a6",
   "metadata": {
    "ExecuteTime": {
     "end_time": "2025-02-13T09:52:46.928153Z",
     "start_time": "2025-02-13T09:52:46.922881Z"
    }
   },
   "source": [
    "a = ([1,2,3,4,5])\n",
    "print(a[2])\n",
    "print(a[0])"
   ],
   "outputs": [
    {
     "name": "stdout",
     "output_type": "stream",
     "text": [
      "3\n",
      "1\n"
     ]
    }
   ],
   "execution_count": 58
  },
  {
   "cell_type": "markdown",
   "id": "433cffe1-0b37-4bc4-80c7-1304740dea6b",
   "metadata": {},
   "source": [
    "对于形状为n的多维数组，要为特定元素编制索引，必须输入n个索引，每个维度一个索引"
   ]
  },
  {
   "cell_type": "code",
   "id": "8354e928-b7d5-4b36-86ea-eab4abd05478",
   "metadata": {
    "ExecuteTime": {
     "end_time": "2025-02-13T09:52:46.994694Z",
     "start_time": "2025-02-13T09:52:46.989460Z"
    }
   },
   "source": [
    "# 在2-D 数组上的索引\n",
    "# 这里使用了元组嵌套的方法，当然列表嵌套也可以\n",
    "two_dim = np.array(([1,2,3],[4,5,6],[7,8,9]))\n",
    "\n",
    "print(two_dim)\n",
    "# 使用索引i、j，从二维数组中选择元素编号8\n",
    "# 第三行，第二列，索引从0开始\n",
    "print(two_dim[2][1])"
   ],
   "outputs": [
    {
     "name": "stdout",
     "output_type": "stream",
     "text": [
      "[[1 2 3]\n",
      " [4 5 6]\n",
      " [7 8 9]]\n",
      "8\n"
     ]
    }
   ],
   "execution_count": 59
  },
  {
   "cell_type": "markdown",
   "id": "15968368-9422-477e-9136-50a0b4df19c8",
   "metadata": {},
   "source": [
    "## 切片\n",
    "切片可以提供从数组中指定的元素的子列表。切片表示法指定start和end值，并将列表从start——end(不包括)复制下来"
   ]
  },
  {
   "cell_type": "markdown",
   "id": "61cd9f32-a5a2-4f98-bf2f-16cee6d8c0f5",
   "metadata": {},
   "source": [
    "语法为：\n",
    "\n",
    "`数组[开始：结束：步长]`\n",
    "\n",
    "start默认值为0，end默认值为数组长度-1，step默认值为1"
   ]
  },
  {
   "cell_type": "code",
   "id": "8ec10b50-32d4-4b7f-b9f1-bf01a817f789",
   "metadata": {
    "ExecuteTime": {
     "end_time": "2025-02-13T09:52:47.035896Z",
     "start_time": "2025-02-13T09:52:47.031870Z"
    }
   },
   "source": [
    "# 将数组a切片获得数组[2,3,4]\n",
    "sliced_arr = a[1:4]\n",
    "print(sliced_arr)"
   ],
   "outputs": [
    {
     "name": "stdout",
     "output_type": "stream",
     "text": [
      "[2, 3, 4]\n"
     ]
    }
   ],
   "execution_count": 60
  },
  {
   "cell_type": "code",
   "id": "daafc2c4-5464-4f58-974f-c6b920cf550a",
   "metadata": {
    "ExecuteTime": {
     "end_time": "2025-02-13T09:52:47.114487Z",
     "start_time": "2025-02-13T09:52:47.109761Z"
    }
   },
   "source": [
    "# 将数组a切片得到数组[3,4,5]\n",
    "sliced_arr = a[:3]\n",
    "print(sliced_arr)"
   ],
   "outputs": [
    {
     "name": "stdout",
     "output_type": "stream",
     "text": [
      "[1, 2, 3]\n"
     ]
    }
   ],
   "execution_count": 61
  },
  {
   "cell_type": "code",
   "id": "f068706f-afba-470a-9dd1-4986b4091b74",
   "metadata": {
    "ExecuteTime": {
     "end_time": "2025-02-13T09:52:47.205062Z",
     "start_time": "2025-02-13T09:52:47.200882Z"
    }
   },
   "source": [
    "# 将数组a切片得到数组[3,4,5]\n",
    "sliced_arr = a[2:]\n",
    "print(sliced_arr)"
   ],
   "outputs": [
    {
     "name": "stdout",
     "output_type": "stream",
     "text": [
      "[3, 4, 5]\n"
     ]
    }
   ],
   "execution_count": 62
  },
  {
   "cell_type": "code",
   "id": "d712e004-0962-4874-a630-792e10a7e0fa",
   "metadata": {
    "ExecuteTime": {
     "end_time": "2025-02-13T09:52:47.248076Z",
     "start_time": "2025-02-13T09:52:47.243985Z"
    }
   },
   "source": [
    "# 将数组a切片得到数组[1,3,5]\n",
    "sliced_arr = a[::2]\n",
    "print(sliced_arr)"
   ],
   "outputs": [
    {
     "name": "stdout",
     "output_type": "stream",
     "text": [
      "[1, 3, 5]\n"
     ]
    }
   ],
   "execution_count": 63
  },
  {
   "cell_type": "markdown",
   "id": "9aa23b45-f5d7-42df-8080-879f2446eeaa",
   "metadata": {},
   "source": [
    "## 解释a== a[:] ==a[::]\n",
    "* a[:]，没有传入参数，按默认值来切片\n",
    "* a[::] ,同样没有传入参数\n",
    "* 不用思考a[:]的冒号是第几个"
   ]
  },
  {
   "cell_type": "code",
   "id": "9f22e505-84b5-4349-adcd-89ffae499c81",
   "metadata": {
    "ExecuteTime": {
     "end_time": "2025-02-13T09:52:47.299566Z",
     "start_time": "2025-02-13T09:52:47.295650Z"
    }
   },
   "source": [
    "# 注意 a== a[:] ==a[::]\n",
    "print(a == a[:] == a[::])"
   ],
   "outputs": [
    {
     "name": "stdout",
     "output_type": "stream",
     "text": [
      "True\n"
     ]
    }
   ],
   "execution_count": 64
  },
  {
   "cell_type": "code",
   "id": "cce17c31-0c82-4c0d-b71f-aad4bcd3f69f",
   "metadata": {
    "ExecuteTime": {
     "end_time": "2025-02-13T09:52:47.330092Z",
     "start_time": "2025-02-13T09:52:47.323561Z"
    }
   },
   "source": [
    "# 将二维数组切片得到前两行\n",
    "print(two_dim)\n",
    "sliced_arr_1 = two_dim[0:2]\n",
    "sliced_arr_1"
   ],
   "outputs": [
    {
     "name": "stdout",
     "output_type": "stream",
     "text": [
      "[[1 2 3]\n",
      " [4 5 6]\n",
      " [7 8 9]]\n"
     ]
    },
    {
     "data": {
      "text/plain": [
       "array([[1, 2, 3],\n",
       "       [4, 5, 6]])"
      ]
     },
     "execution_count": 65,
     "metadata": {},
     "output_type": "execute_result"
    }
   ],
   "execution_count": 65
  },
  {
   "cell_type": "code",
   "id": "1894efb2-7dc8-4043-ad58-5d56b0ce4ab9",
   "metadata": {
    "ExecuteTime": {
     "end_time": "2025-02-13T09:52:47.392359Z",
     "start_time": "2025-02-13T09:52:47.385647Z"
    }
   },
   "source": [
    "#类似地，切片 two_dim 数组以获取最后两行\n",
    "sliced_two_dim_rows = two_dim[1:3]\n",
    "print(sliced_two_dim_rows)"
   ],
   "outputs": [
    {
     "name": "stdout",
     "output_type": "stream",
     "text": [
      "[[4 5 6]\n",
      " [7 8 9]]\n"
     ]
    }
   ],
   "execution_count": 66
  },
  {
   "cell_type": "code",
   "id": "5276bca2-09dd-4592-85f7-127c6432e595",
   "metadata": {
    "ExecuteTime": {
     "end_time": "2025-02-13T09:52:47.499066Z",
     "start_time": "2025-02-13T09:52:47.494290Z"
    }
   },
   "source": [
    "# 注意，','前面单独冒号出现意味中切片所有行，取第二列\n",
    "sliced_two_dim_cols = two_dim[:,1]\n",
    "print(sliced_two_dim_cols)"
   ],
   "outputs": [
    {
     "name": "stdout",
     "output_type": "stream",
     "text": [
      "[2 5 8]\n"
     ]
    }
   ],
   "execution_count": 67
  },
  {
   "cell_type": "markdown",
   "id": "8b930414-8f45-4837-9a98-26ae9e072281",
   "metadata": {},
   "source": [
    "## 堆叠\n",
    "堆叠是Numpy的一项功能，可增加数组的自定义。这意味着水平或者垂直连接两个或多个数组，这意味着它是沿着新轴完成。\n",
    "\n",
    "* np.vstack()- 垂直堆叠\n",
    "* np.hstack()- 水平堆叠\n",
    "* np.hsplit()- 将数组拆分为几个较小的数组"
   ]
  },
  {
   "cell_type": "markdown",
   "id": "47439056-ee0e-43ee-b511-59b917caad87",
   "metadata": {},
   "source": [
    "f-string 是 Python 3.6 及以上版本引入的一种字符串格式化方式，在字符串前加上 f 或 F 前缀，就可以在字符串中使用花括号 {} 来包含表达式，Python 会在运行时将这些表达式的值替换到字符串中。"
   ]
  },
  {
   "cell_type": "code",
   "id": "218b888e-ec15-43ff-b71d-b900e67e7e47",
   "metadata": {
    "ExecuteTime": {
     "end_time": "2025-02-13T09:52:47.531801Z",
     "start_time": "2025-02-13T09:52:47.525655Z"
    }
   },
   "source": [
    "a1 = np.array([[1,1],[2,2]])\n",
    "a2 = np.array([[3,3],[4,4]])\n",
    "print(f'a1:\\n{a1}')\n",
    "print(f'a2:\\n{a2}')"
   ],
   "outputs": [
    {
     "name": "stdout",
     "output_type": "stream",
     "text": [
      "a1:\n",
      "[[1 1]\n",
      " [2 2]]\n",
      "a2:\n",
      "[[3 3]\n",
      " [4 4]]\n"
     ]
    }
   ],
   "execution_count": 68
  },
  {
   "cell_type": "code",
   "id": "288fb118-4302-4c0c-a650-20d73a12b819",
   "metadata": {
    "ExecuteTime": {
     "end_time": "2025-02-13T09:52:47.581110Z",
     "start_time": "2025-02-13T09:52:47.577323Z"
    }
   },
   "source": [
    "# 将数组垂直堆叠\n",
    "ver_stack = np.vstack((a1,a2))\n",
    "print(ver_stack)"
   ],
   "outputs": [
    {
     "name": "stdout",
     "output_type": "stream",
     "text": [
      "[[1 1]\n",
      " [2 2]\n",
      " [3 3]\n",
      " [4 4]]\n"
     ]
    }
   ],
   "execution_count": 69
  },
  {
   "cell_type": "code",
   "id": "dae7ffaa-c8bc-4ebc-9abe-ef87a930a96b",
   "metadata": {
    "ExecuteTime": {
     "end_time": "2025-02-13T09:52:47.615321Z",
     "start_time": "2025-02-13T09:52:47.611513Z"
    }
   },
   "source": [
    "# 将数组水平堆叠\n",
    "horz_stack = np.hstack((a1,a2))\n",
    "print(horz_stack)"
   ],
   "outputs": [
    {
     "name": "stdout",
     "output_type": "stream",
     "text": [
      "[[1 1 3 3]\n",
      " [2 2 4 4]]\n"
     ]
    }
   ],
   "execution_count": 70
  }
 ],
 "metadata": {
  "kernelspec": {
   "display_name": "Python 3 (ipykernel)",
   "language": "python",
   "name": "python3"
  },
  "language_info": {
   "codemirror_mode": {
    "name": "ipython",
    "version": 3
   },
   "file_extension": ".py",
   "mimetype": "text/x-python",
   "name": "python",
   "nbconvert_exporter": "python",
   "pygments_lexer": "ipython3",
   "version": "3.13.2"
  }
 },
 "nbformat": 4,
 "nbformat_minor": 5
}
