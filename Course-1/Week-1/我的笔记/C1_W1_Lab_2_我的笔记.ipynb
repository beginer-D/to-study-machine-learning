{
 "cells": [
  {
   "cell_type": "markdown",
   "id": "b101fe16-7f18-49cd-a904-dbf3e4a49d1e",
   "metadata": {
    "collapsed": true,
    "jupyter": {
     "is_executing": true,
     "outputs_hidden": true
    }
   },
   "source": [
    "## 求解线性系统：2个变量\n",
    "通过完成本实验，您将能够使用Python和Numpy软件包的基本变成技能来求解线性方程组。在此笔记本中，您将：\n",
    "* 使用Numpy线性代数包求线性方程组的解\n",
    "* 使用消元法求线性方程组的解\n",
    "* 评估矩阵的行列式并检查矩阵奇异性与线性系统解数之间的关系"
   ]
  },
  {
   "cell_type": "markdown",
   "id": "9acc99b0-20d6-487a-b638-172898cef8dd",
   "metadata": {},
   "source": [
    "## 导包\n",
    "加载`numpy`以访问其函数"
   ]
  },
  {
   "cell_type": "code",
   "execution_count": 2,
   "id": "86cd206f-4d6a-45b0-9348-ee7d1087dc8b",
   "metadata": {
    "ExecuteTime": {
     "end_time": "2025-02-14T13:46:07.000070Z",
     "start_time": "2025-02-14T13:46:06.898932Z"
    }
   },
   "outputs": [],
   "source": [
    "import numpy as np"
   ]
  },
  {
   "cell_type": "markdown",
   "id": "dc2dda55-7a9c-4b8d-9170-81a1d63e276a",
   "metadata": {},
   "source": [
    "## 使用矩阵表示和求解线性方程组"
   ]
  },
  {
   "cell_type": "markdown",
   "id": "a522ffae-4da3-4915-9007-d38aa4b59290",
   "metadata": {},
   "source": [
    "### 线性方程组\n",
    "线性方程组涉及到相同变量的一个或多个线性方程的集合，例如\n",
    "$$\\begin{cases} \n",
    "-x_1+3x_2=7, \\\\ 3x_1+2x_2=1, \\end{cases}\\tag{1}$$\n",
    "由两个方程组成的方程组，含未知量x1，x2使得所以方程都同时满足\n",
    "\n",
    "如果线性系统没有解，则它是不一致的，否则成为一致，一致性系统可以有一个或多个解"
   ]
  },
  {
   "cell_type": "markdown",
   "id": "f185514f-f87c-47c2-818f-ab1369bb6570",
   "metadata": {},
   "source": [
    "### 使用矩阵求解线性方程组\n",
    "`Numpy`线性代数包提供了使用函数`np.linalg.solve(A,b)`求解线性方程组的方法，这是一个$A$矩阵，每行代表系统中的一个方程，每列对应$X1,X2$。$b$是等号右侧的常量的一维数组.有关`np.linalg.solve()`函数的更多信息可参阅文档\n",
    "\n",
    "给定线性方程组，可以将矩阵$A$和一维数组$b$设置为："
   ]
  },
  {
   "cell_type": "code",
   "execution_count": 3,
   "id": "6e3bd78d-9dea-4b8d-b753-56997f0bae84",
   "metadata": {
    "ExecuteTime": {
     "end_time": "2025-02-14T13:46:07.078151Z",
     "start_time": "2025-02-14T13:46:07.073026Z"
    }
   },
   "outputs": [
    {
     "name": "stdout",
     "output_type": "stream",
     "text": [
      "矩阵A:\n",
      "[[-1.  3.]\n",
      " [ 3.  2.]]\n",
      "\n",
      "数组b：\n",
      "[7. 1.]\n"
     ]
    }
   ],
   "source": [
    "A = np.array([[-1,3],[3,2]],dtype=np.dtype(float))\n",
    "b = np.array([7,1],dtype=np.dtype(float))\n",
    "\n",
    "print(\"矩阵A:\")\n",
    "print(A)\n",
    "print(\"\\n数组b：\")\n",
    "print(b)"
   ]
  },
  {
   "cell_type": "markdown",
   "id": "509d84e9-5bf7-4a8b-9856-aa860f66543a",
   "metadata": {},
   "source": [
    "检查$A$和$b$的维度。也可以使用\"np.shape()\"作为代替\n",
    "`数组的形状由一个元组来描述，元组中的每个元素代表数组在对应维度上的大小`"
   ]
  },
  {
   "cell_type": "code",
   "execution_count": 4,
   "id": "ca2b148d-2210-426f-acdd-0d7c0dbee295",
   "metadata": {
    "ExecuteTime": {
     "end_time": "2025-02-14T13:46:07.250565Z",
     "start_time": "2025-02-14T13:46:07.246236Z"
    }
   },
   "outputs": [
    {
     "name": "stdout",
     "output_type": "stream",
     "text": [
      "A的形状:(2, 2)\n",
      "b的形状:(2,)\n"
     ]
    }
   ],
   "source": [
    "print(f\"A的形状:{A.shape}\")\n",
    "print(f\"b的形状:{b.shape}\")"
   ]
  },
  {
   "cell_type": "markdown",
   "id": "e8986722-4a82-4941-8b96-5dc3317e532b",
   "metadata": {},
   "source": [
    "现在只需使用`np.linalg.solve(A,b)`来找到方程组的解。结果将保存在 1-D 数组$x$中。这些元素对应$x1$$x2$的值："
   ]
  },
  {
   "cell_type": "code",
   "execution_count": 5,
   "id": "c0785dfd-8ff3-4ed6-abe2-d96faf3f69d6",
   "metadata": {
    "ExecuteTime": {
     "end_time": "2025-02-14T13:46:07.314081Z",
     "start_time": "2025-02-14T13:46:07.309382Z"
    }
   },
   "outputs": [
    {
     "name": "stdout",
     "output_type": "stream",
     "text": [
      "方程组的解是:[-1.  2.]\n"
     ]
    }
   ],
   "source": [
    "x = np.linalg.solve(A,b)\n",
    "print(f\"方程组的解是:{x}\")"
   ]
  },
  {
   "cell_type": "markdown",
   "id": "094cb654-4d38-47ba-8a9d-7ec5272c0022",
   "metadata": {},
   "source": [
    "得出方程组的解后可以代入原始方程组检查"
   ]
  },
  {
   "cell_type": "markdown",
   "id": "86adec96-cf7d-47f9-902c-421c7ba946dc",
   "metadata": {},
   "source": [
    "## 使用消元法求解线性方程组\n",
    "为了更深入地理解数学概念，手动练习一些求解技术很重要"
   ]
  },
  {
   "cell_type": "markdown",
   "id": "eabe444a-9348-4f96-8f59-8c4539bda3fc",
   "metadata": {},
   "source": [
    "## 消除方法\n",
    "在消元法中，可以添加或减去方程，获得变量数量较少的方程，可以将整个方程乘以非0数"
   ]
  },
  {
   "cell_type": "markdown",
   "id": "71565a05-9957-4132-889a-1590e2038ecd",
   "metadata": {},
   "source": [
    "$$\\begin{cases} \n",
    "-x_1+3x_2=7, \\\\ 3x_1+2x_2=1, \\end{cases}$$"
   ]
  },
  {
   "cell_type": "markdown",
   "id": "b362e8b1-8456-450a-8f9b-b6524c35d39f",
   "metadata": {},
   "source": [
    "将第一个方程乘以3，将其添加到第二个方程中，然后将第二个方程与此加法的结果交换：\n",
    "$$\\begin{cases} \n",
    "-x_1+3x_2=7, \\\\ 11x_2=22. \\end{cases}\\tag{2}$$"
   ]
  },
  {
   "cell_type": "markdown",
   "id": "8cf6cc7f-da9e-4837-85f0-4ad087bfbae9",
   "metadata": {},
   "source": [
    "从第二个方程中除去了$X1$，很容易得到$X2$的值，将其回代到第一个方程，解得：\n",
    "$$\\begin{cases} \n",
    "x_1=-1, \\\\ x_2=2. \\end{cases}\\tag{4}$$"
   ]
  },
  {
   "cell_type": "markdown",
   "id": "4d4afd31-72c9-4b29-99a6-a8c5840d647c",
   "metadata": {},
   "source": [
    "## 在代码中实现消除方法的准备工作\n",
    "以矩阵形式表示方程组，可以使用`np.hstack()`方法将系数矩阵和常量矩阵合并成一个矩阵。请注意，最初定义的数组b的形状是(2,)，要将其与矩阵(2,2)堆叠起来，需要使用`.reshape((2,1))`\n",
    "和矩阵乘法类似的原则，需要`前列后行`相同"
   ]
  },
  {
   "cell_type": "code",
   "execution_count": 6,
   "id": "bb4ff683-de55-4207-8132-d6fbb1ed58e9",
   "metadata": {
    "ExecuteTime": {
     "end_time": "2025-02-14T13:46:07.363949Z",
     "start_time": "2025-02-14T13:46:07.358754Z"
    }
   },
   "outputs": [
    {
     "name": "stdout",
     "output_type": "stream",
     "text": [
      "[[-1.  3.  7.]\n",
      " [ 3.  2.  1.]]\n"
     ]
    }
   ],
   "source": [
    "A_system = np.hstack((A,b.reshape((2,1))))\n",
    "print(A_system)"
   ]
  },
  {
   "cell_type": "markdown",
   "id": "0f05fbd9-f284-4905-8495-b2eace15f29f",
   "metadata": {},
   "source": [
    "提取矩阵的第二行"
   ]
  },
  {
   "cell_type": "code",
   "execution_count": 7,
   "id": "9942465a-bae4-4552-9cdc-58df14369060",
   "metadata": {
    "ExecuteTime": {
     "end_time": "2025-02-14T13:46:07.397902Z",
     "start_time": "2025-02-14T13:46:07.393451Z"
    }
   },
   "outputs": [
    {
     "name": "stdout",
     "output_type": "stream",
     "text": [
      "[3. 2. 1.]\n"
     ]
    }
   ],
   "source": [
    "print(A_system[1])"
   ]
  },
  {
   "cell_type": "markdown",
   "id": "41ecb6cf-4ac1-4898-af66-5302f0ef019f",
   "metadata": {},
   "source": [
    "## 消元法实现\n",
    "让我们对矩阵$A\\_System$应用一些操作来消除变量，首先，复制矩阵保持原始矩阵不受任何更改。然后，将第一行乘以3，将其加到第二行上"
   ]
  },
  {
   "cell_type": "code",
   "execution_count": 8,
   "id": "ec0cd969-bd0d-4791-ac75-fc5240a9b25e",
   "metadata": {
    "ExecuteTime": {
     "end_time": "2025-02-14T13:46:07.427207Z",
     "start_time": "2025-02-14T13:46:07.422903Z"
    }
   },
   "outputs": [],
   "source": [
    "A_system_res = A_system.copy()"
   ]
  },
  {
   "cell_type": "code",
   "execution_count": 9,
   "id": "cc660e36-6317-45c6-ae51-bf23c306957f",
   "metadata": {
    "ExecuteTime": {
     "end_time": "2025-02-14T13:46:07.454808Z",
     "start_time": "2025-02-14T13:46:07.450079Z"
    }
   },
   "outputs": [
    {
     "name": "stdout",
     "output_type": "stream",
     "text": [
      "[[-1.  3.  7.]\n",
      " [ 0. 11. 22.]]\n"
     ]
    }
   ],
   "source": [
    "A_system_res[1] = 3 * A_system_res[0] + A_system_res[1]\n",
    "print(A_system_res)"
   ]
  },
  {
   "cell_type": "markdown",
   "id": "c6d5ad28-45b0-4d13-9956-7784af725ecb",
   "metadata": {},
   "source": [
    "乘以第二行1/11"
   ]
  },
  {
   "cell_type": "code",
   "execution_count": 10,
   "id": "d71b50da-947e-4807-ada6-ef217997ddc1",
   "metadata": {
    "ExecuteTime": {
     "end_time": "2025-02-14T13:46:07.497454Z",
     "start_time": "2025-02-14T13:46:07.492685Z"
    }
   },
   "outputs": [
    {
     "name": "stdout",
     "output_type": "stream",
     "text": [
      "[[-1.  3.  7.]\n",
      " [ 0.  1.  2.]]\n"
     ]
    }
   ],
   "source": [
    "A_system_res[1] = 1/11*A_system_res[1] \n",
    "print(A_system_res)"
   ]
  },
  {
   "cell_type": "markdown",
   "id": "50cb487e-fb17-49f6-aae0-8ee495ae62db",
   "metadata": {},
   "source": [
    "## 解的图形表示\n",
    "两个变量的线性方程(此处为x1和x2)在几何上由一条直线表示，该直线上的点(x1,x2)构成方程组的解集。这被称为线性方程的图。在两个方程的系统情况下，每个方程将对应两条直线，解就是直线的交点。\n",
    "\n",
    "将定义一个函数`plot_lines()`绘制线条，并将其用于表示解，如果下面的单元格中的代码不清楚，请不要担心——在这个阶段，这不是理解的重要代码。"
   ]
  },
  {
   "cell_type": "code",
   "execution_count": 11,
   "id": "44f6fd60-381e-4739-b790-0eaf4c7be45c",
   "metadata": {
    "ExecuteTime": {
     "end_time": "2025-02-14T13:46:07.954286Z",
     "start_time": "2025-02-14T13:46:07.524238Z"
    }
   },
   "outputs": [],
   "source": [
    "import matplotlib.pyplot as plt\n",
    "\n",
    "def plot_lines(M):\n",
    "    x_1 = np.linspace(-10,10,100)\n",
    "    x_2_line_1 = (M[0,2] - M[0,0] * x_1) / M[0,1]\n",
    "    x_2_line_2 = (M[1,2] - M[1,0] * x_1) / M[1,1]\n",
    "    \n",
    "    _, ax = plt.subplots(figsize=(10, 10))\n",
    "    ax.plot(x_1, x_2_line_1, '-', linewidth=2, color='#0075ff',\n",
    "        label=f'$x_2={-M[0,0]/M[0,1]:.2f}x_1 + {M[0,2]/M[0,1]:.2f}$')\n",
    "    ax.plot(x_1, x_2_line_2, '-', linewidth=2, color='#ff7300',\n",
    "        label=f'$x_2={-M[1,0]/M[1,1]:.2f}x_1 + {M[1,2]/M[1,1]:.2f}$')\n",
    "\n",
    "    A = M[:, 0:-1]\n",
    "    b = M[:, -1::].flatten()\n",
    "    d = np.linalg.det(A)\n",
    "\n",
    "    if d != 0:\n",
    "        solution = np.linalg.solve(A,b) \n",
    "        ax.plot(solution[0], solution[1], '-o', mfc='none', \n",
    "            markersize=10, markeredgecolor='#ff0000', markeredgewidth=2)\n",
    "        ax.text(solution[0]-0.25, solution[1]+0.75, f'$(${solution[0]:.0f}$,{solution[1]:.0f})$', fontsize=14)\n",
    "    ax.tick_params(axis='x', labelsize=14)\n",
    "    ax.tick_params(axis='y', labelsize=14)\n",
    "    ax.set_xticks(np.arange(-10, 10))\n",
    "    ax.set_yticks(np.arange(-10, 10))\n",
    "\n",
    "    plt.xlabel('$x_1$', size=14)\n",
    "    plt.ylabel('$x_2$', size=14)\n",
    "    plt.legend(loc='upper right', fontsize=14)\n",
    "    plt.axis([-10, 10, -10, 10])\n",
    "\n",
    "    plt.grid()\n",
    "    plt.gca().set_aspect(\"equal\")\n",
    "\n",
    "    plt.show()"
   ]
  },
  {
   "cell_type": "code",
   "execution_count": 12,
   "id": "686b1f13-20c2-4e07-b6ef-4b62af0261c1",
   "metadata": {
    "ExecuteTime": {
     "end_time": "2025-02-14T13:46:08.246720Z",
     "start_time": "2025-02-14T13:46:07.970975Z"
    }
   },
   "outputs": [
    {
     "data": {
      "image/png": "[encoded data removed]",
      "text/plain": [
       "<Figure size 1000x1000 with 1 Axes>"
      ]
     },
     "metadata": {},
     "output_type": "display_data"
    }
   ],
   "source": [
    "plot_lines(A_system)"
   ]
  },
  {
   "cell_type": "markdown",
   "id": "25e0ee68-e443-4af9-a9e7-36d7f3dfac13",
   "metadata": {},
   "source": [
    "## 无解的线性方程组\n",
    "给定另一个线性方程组:\n",
    "$$\\begin{cases} \n",
    "-x_1+3x_2=7, \\\\ 3x_1-9x_2=1, \\end{cases}\\tag{5}$$\n",
    "找到相应的矩阵行列式"
   ]
  },
  {
   "cell_type": "code",
   "execution_count": 15,
   "id": "f72df894-0291-4364-ad1c-aa1bac50dc9c",
   "metadata": {
    "ExecuteTime": {
     "end_time": "2025-02-14T13:46:08.268624Z",
     "start_time": "2025-02-14T13:46:08.262870Z"
    }
   },
   "outputs": [
    {
     "name": "stdout",
     "output_type": "stream",
     "text": [
      "矩阵A_2的行列式:0.00\n"
     ]
    }
   ],
   "source": [
    "A_2 = np.array([[-1,3],[3,-9]],dtype=np.dtype(float))\n",
    "b_2 = np.array([7,1],dtype=np.dtype(float))\n",
    "\n",
    "# 和b_2无关，行列式的求取函数np.linalg.det()\n",
    "d_2 = np.linalg.det(A_2)\n",
    "print(f\"矩阵A_2的行列式:{d_2:.2f}\")"
   ]
  },
  {
   "cell_type": "markdown",
   "id": "96d74efa-85ef-48be-b371-43827a0b429e",
   "metadata": {
    "ExecuteTime": {
     "end_time": "2025-02-14T11:13:10.366284Z",
     "start_time": "2025-02-14T11:13:10.363382Z"
    }
   },
   "source": [
    "解等于0，因此系统不能有一个唯一解。它将有无穷多个解或者没有解。其一致性将取决于常量系数。发现运行`np.linalg.solve()`函数因为奇异性给出错误"
   ]
  },
  {
   "cell_type": "code",
   "execution_count": 16,
   "id": "237ff100-4558-42ae-9056-8b6092d11ddf",
   "metadata": {
    "ExecuteTime": {
     "end_time": "2025-02-14T13:46:08.289003Z",
     "start_time": "2025-02-14T13:46:08.285061Z"
    }
   },
   "outputs": [
    {
     "name": "stdout",
     "output_type": "stream",
     "text": [
      "Singular matrix\n"
     ]
    }
   ],
   "source": [
    "try:\n",
    "    x_2 = np.linalg.solve(A_2, b_2)\n",
    "except np.linalg.LinAlgError as err:\n",
    "    print(err)"
   ]
  },
  {
   "cell_type": "markdown",
   "id": "bbfc4153-018e-4c99-8cad-e2c7dcc8b089",
   "metadata": {},
   "source": [
    "准备应用消元法，构建与该线性系统对应的矩阵"
   ]
  },
  {
   "cell_type": "code",
   "execution_count": 17,
   "id": "b205da80-cf88-46e3-80ef-06b67dfc8cd2",
   "metadata": {
    "ExecuteTime": {
     "end_time": "2025-02-14T13:46:08.313791Z",
     "start_time": "2025-02-14T13:46:08.308521Z"
    }
   },
   "outputs": [
    {
     "name": "stdout",
     "output_type": "stream",
     "text": [
      "[[-1.  3.  7.]\n",
      " [ 3. -9.  1.]]\n"
     ]
    }
   ],
   "source": [
    "A_2_system = np.hstack((A_2,b_2.reshape(2,1)))\n",
    "print(A_2_system)"
   ]
  },
  {
   "cell_type": "markdown",
   "id": "f4652721-731e-4256-a77c-55010f1c3a20",
   "metadata": {},
   "source": [
    "执行消元操作"
   ]
  },
  {
   "cell_type": "code",
   "execution_count": 18,
   "id": "53306917-6867-4c40-a080-3f949bd421e1",
   "metadata": {
    "ExecuteTime": {
     "end_time": "2025-02-14T13:46:08.343514Z",
     "start_time": "2025-02-14T13:46:08.339349Z"
    }
   },
   "outputs": [
    {
     "name": "stdout",
     "output_type": "stream",
     "text": [
      "[[-1.  3.  7.]\n",
      " [ 0.  0. 22.]]\n"
     ]
    }
   ],
   "source": [
    "# 复制矩阵\n",
    "A_2_system_res = A_2_system.copy()\n",
    "# 将第一行乘以3加到第二行去\n",
    "A_2_system_res[1] = 3 * A_2_system_res[0] + A_2_system_res[1]\n",
    "print(A_2_system_res)"
   ]
  },
  {
   "cell_type": "markdown",
   "id": "00c2d8a7-db64-4955-ade7-339e9ca5729c",
   "metadata": {},
   "source": [
    "最后一行对应于方程$0=22$,该方程无解。因此，整个线性方程组无解。如图，两直线不会相交"
   ]
  },
  {
   "cell_type": "code",
   "execution_count": null,
   "id": "1013788d-620f-44da-8b96-16691da5f9ea",
   "metadata": {
    "ExecuteTime": {
     "end_time": "2025-02-14T13:46:08.594777Z",
     "start_time": "2025-02-14T13:46:08.368434Z"
    }
   },
   "outputs": [],
   "source": [
    "plot_lines(A_2_system)"
   ]
  },
  {
   "cell_type": "markdown",
   "id": "8f55d546-30ac-496c-aeb4-c4c2607f7e9f",
   "metadata": {},
   "source": [
    "## 无穷多解的线性方程组\n",
    "改变方程组的常量，可以使其保持一致性`一个或多个解`\n",
    "\n",
    "$$\\begin{cases} \n",
    "-x_1+3x_2=7, \\\\ 3x_1-9x_2=-21, \\end{cases}\\tag{6}$$"
   ]
  },
  {
   "cell_type": "code",
   "execution_count": null,
   "id": "fb43b26c-0a8f-4b1a-a9fd-f678b6661fe2",
   "metadata": {
    "ExecuteTime": {
     "end_time": "2025-02-14T13:46:08.615640Z",
     "start_time": "2025-02-14T13:46:08.612027Z"
    }
   },
   "outputs": [],
   "source": [
    "b_3 = np.array([7,-21],dtype=np.dtype(float))"
   ]
  },
  {
   "cell_type": "markdown",
   "id": "1869b134-e818-4359-8fb8-1253d762649f",
   "metadata": {},
   "source": [
    "准备对应与方程组(6)的新矩阵"
   ]
  },
  {
   "cell_type": "code",
   "execution_count": null,
   "id": "ede314f2-ff59-4b8d-8164-2d0e2a192d04",
   "metadata": {
    "ExecuteTime": {
     "end_time": "2025-02-14T13:46:08.629169Z",
     "start_time": "2025-02-14T13:46:08.625108Z"
    }
   },
   "outputs": [],
   "source": [
    "A_3_system = np.hstack((A_2,b_3.reshape(2,1)))\n",
    "print(A_3_system)"
   ]
  },
  {
   "cell_type": "markdown",
   "id": "e80c6499-e807-4a40-9ea4-0bf2b673c8a1",
   "metadata": {},
   "source": [
    "使用初等运算进行消元"
   ]
  },
  {
   "cell_type": "code",
   "execution_count": null,
   "id": "8fe3363e-cd73-4393-8d42-f523a2d51fb4",
   "metadata": {
    "ExecuteTime": {
     "end_time": "2025-02-14T13:46:08.655092Z",
     "start_time": "2025-02-14T13:46:08.651190Z"
    }
   },
   "outputs": [],
   "source": [
    "# 复制矩阵\n",
    "A_3_system_res = A_3_system.copy()\n",
    "\n",
    "# 将第一行乘以3加到第二行去\n",
    "A_3_system_res[1] = 3 * A_3_system_res[0] + A_3_system_res[1]\n",
    "print(A_3_system_res)"
   ]
  },
  {
   "cell_type": "markdown",
   "id": "ca95c954-1264-4190-9239-9f0003bdbcd8",
   "metadata": {},
   "source": [
    "因此，从相应的线性方程组中\n",
    "$$\\begin{cases} \n",
    "-x_1+3x_2=7, \\\\ 0=0, \\end{cases}\\tag{7}$$\n",
    "线性方程组的解为\n",
    "$$x_1=3x_2-7, \\tag{8}$$\n",
    "$X2$是任何实数，$X1$也会相应改变"
   ]
  },
  {
   "cell_type": "code",
   "execution_count": null,
   "id": "40fe8834-daf3-4e5c-b8d5-0a2233a96656",
   "metadata": {
    "ExecuteTime": {
     "end_time": "2025-02-14T13:46:08.854370Z",
     "start_time": "2025-02-14T13:46:08.675129Z"
    }
   },
   "outputs": [],
   "source": [
    "plot_lines(A_3_system)"
   ]
  }
 ],
 "metadata": {
  "kernelspec": {
   "display_name": "Python 3 (ipykernel)",
   "language": "python",
   "name": "python3"
  },
  "language_info": {
   "codemirror_mode": {
    "name": "ipython",
    "version": 3
   },
   "file_extension": ".py",
   "mimetype": "text/x-python",
   "name": "python",
   "nbconvert_exporter": "python",
   "pygments_lexer": "ipython3",
   "version": "3.13.2"
  }
 },
 "nbformat": 4,
 "nbformat_minor": 5
}
