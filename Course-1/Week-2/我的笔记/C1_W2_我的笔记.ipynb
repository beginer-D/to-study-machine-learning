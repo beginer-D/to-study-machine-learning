{
 "cells": [
  {
   "cell_type": "markdown",
   "id": "e5ea8ffa-7404-4c43-88ff-2db91cbba709",
   "metadata": {
    "ExecuteTime": {
     "end_time": "2025-02-17T12:49:06.554063Z",
     "start_time": "2025-02-17T12:49:06.552376Z"
    },
    "collapsed": true,
    "jupyter": {
     "outputs_hidden": true
    }
   },
   "source": [
    "# 线性方程组系统\n",
    "欢迎来到课程1的第一个作业。学习了线性方程组及其通过行化简求解的方法\n",
    "**在此任务过后，您将能够:**\n",
    "* 使用`numpy`包设置与线性方程做对应的数组\n",
    "* 评估矩阵的行列式并使用`numpy`线性代数包求解系统\n",
    "* 执行行简化以将矩阵转化为行阶梯形\n",
    "* 求解线性方程组的解"
   ]
  },
  {
   "cell_type": "markdown",
   "id": "7f9fd8bb-7757-467f-b9c9-55e163860a54",
   "metadata": {},
   "source": [
    "# 导包"
   ]
  },
  {
   "cell_type": "code",
   "execution_count": 140,
   "id": "bb350546-baf2-4072-a96d-f731b98a5bf0",
   "metadata": {
    "ExecuteTime": {
     "end_time": "2025-02-18T12:13:20.747031Z",
     "start_time": "2025-02-18T12:13:18.687463Z"
    }
   },
   "outputs": [],
   "source": [
    "import numpy as np"
   ]
  },
  {
   "cell_type": "markdown",
   "id": "6ece7f13-3ff0-43b9-b763-d765e0ca6add",
   "metadata": {},
   "source": [
    "加载为此笔记本定义的特定单元测试"
   ]
  },
  {
   "cell_type": "code",
   "execution_count": 141,
   "id": "86312741-cf24-427e-9832-1a765fd451d2",
   "metadata": {
    "ExecuteTime": {
     "end_time": "2025-02-18T12:13:20.783111Z",
     "start_time": "2025-02-18T12:13:20.776238Z"
    }
   },
   "outputs": [],
   "source": [
    "import w2_unittest"
   ]
  },
  {
   "cell_type": "markdown",
   "id": "1999ae42-d4c8-4255-9f29-ef807984226c",
   "metadata": {},
   "source": [
    "# 线性方程组和相应的`Numpy`数组\n",
    "矩阵可以用来解方程组。但首先，需要用矩阵表示该方程组。给定以下线性方程组：\n",
    "$$\\begin{cases} \n",
    "2x_1-x_2+x_3+x_4=6, \\\\ x_1+2x_2-x_3-x_4=3, \\\\ -x_1+2x_2+2x_3+2x_4=14, \\\\ x_1-x_2+2x_3+x_4=8, \\end{cases}\\tag{1}$$\n",
    "构造矩阵`A`,其中每一行代表系统的一个方程，每一列代表变量`x1,x2,x3,x4`。从方程右侧的自由系数放入向量`b`中"
   ]
  },
  {
   "cell_type": "markdown",
   "id": "bc4e3d2b-df56-4d8d-92f9-edbf17b849a2",
   "metadata": {},
   "source": [
    "## 练习1\n",
    "构建与线性方程组$(1)$对应的矩阵`A`和向量$b$"
   ]
  },
  {
   "cell_type": "code",
   "execution_count": 142,
   "id": "7c0c18b8-d360-4478-b8e6-bd0f5976049c",
   "metadata": {
    "ExecuteTime": {
     "end_time": "2025-02-18T12:13:20.800938Z",
     "start_time": "2025-02-18T12:13:20.794830Z"
    }
   },
   "outputs": [],
   "source": [
    "A = np.array([\n",
    "    [2, -1, 1, 1],\n",
    "    [1, 2, -1, -1],\n",
    "    [-1, 2, 2, 2],\n",
    "    [1, -1, 2, 1]    \n",
    "],dtype=np.dtype(float))  \n",
    "            \n",
    "b = np.array([6,3,14,8],dtype=np.dtype(float))"
   ]
  },
  {
   "cell_type": "code",
   "execution_count": 143,
   "id": "ecff20f0-9fbe-47b7-8f41-a2808a7b9aca",
   "metadata": {
    "ExecuteTime": {
     "end_time": "2025-02-18T12:13:20.826529Z",
     "start_time": "2025-02-18T12:13:20.820513Z"
    }
   },
   "outputs": [
    {
     "name": "stdout",
     "output_type": "stream",
     "text": [
      "\u001b[92m All tests passed\n"
     ]
    }
   ],
   "source": [
    "# 测试解决\n",
    "w2_unittest.test_matrix(A,b)"
   ]
  },
  {
   "cell_type": "markdown",
   "id": "644febb1-a54b-4a87-ad4f-0bc6615d7c52",
   "metadata": {},
   "source": [
    "## 使用`numpy`线性代数包的方程组求解方案\n",
    "一个含有四个未知变量的四个线性方程组，当且仅当其系数矩阵的行列式不等于零时，才有唯一解。`Numpy`提供了快速可靠地计算方阵行列式以及解线性方程组的途径"
   ]
  },
  {
   "cell_type": "markdown",
   "id": "ea648253-5bd1-4fa5-997d-641ab71091d4",
   "metadata": {},
   "source": [
    "## 练习2\n",
    "找到矩阵$A$的行列式$d$和线性方程组(1)的解向量x。"
   ]
  },
  {
   "cell_type": "code",
   "execution_count": 144,
   "id": "49afbfe6-e879-403b-a223-1a5ace74726a",
   "metadata": {
    "ExecuteTime": {
     "end_time": "2025-02-18T12:13:21.402043Z",
     "start_time": "2025-02-18T12:13:21.393700Z"
    }
   },
   "outputs": [
    {
     "name": "stdout",
     "output_type": "stream",
     "text": [
      "矩阵A的行列式：-17.00\n",
      "矩阵的解:[2. 3. 4. 1.]\n"
     ]
    }
   ],
   "source": [
    "# 矩阵A的行列式\n",
    "d = np.linalg.det(A)\n",
    "\n",
    "# 求矩阵的解\n",
    "x = np.linalg.solve(A,b)\n",
    "\n",
    "print(f\"矩阵A的行列式：{d:.2f}\")\n",
    "print(f\"矩阵的解:{x}\")"
   ]
  },
  {
   "cell_type": "code",
   "execution_count": 145,
   "id": "cd9f521c-9b91-485e-8b58-d94192855c86",
   "metadata": {
    "ExecuteTime": {
     "end_time": "2025-02-18T12:13:21.444350Z",
     "start_time": "2025-02-18T12:13:21.439964Z"
    }
   },
   "outputs": [
    {
     "name": "stdout",
     "output_type": "stream",
     "text": [
      "\u001b[92m All tests passed\n"
     ]
    }
   ],
   "source": [
    "# 测试解答\n",
    "w2_unittest.test_det_and_solution_scipy(d,x)"
   ]
  },
  {
   "cell_type": "markdown",
   "id": "2719a174-cfda-4065-a620-3523ae741fe7",
   "metadata": {},
   "source": [
    "## 基本运算和行简化操作\n",
    "尽管当代软件包允许用一行代码找到解决方案，但手动执行所需的代数运算有助于建立对机器学习算法深入理解的必要基础。\n",
    "\n",
    "这里将使用行简化法代数地解决线性方程组。这涉及到使用出等运算组合方程，尽可能多地消除每个方程中的变量。有三种有效操作可以将方程组转换为等价形式（具有相同的解）\n",
    "* 将任意行乘以非零数\n",
    "* 将两行相加，并将原始行中的一行与结果交换\n",
    "* 交换行"
   ]
  },
  {
   "cell_type": "markdown",
   "id": "d58de71b-0f56-43ee-8747-f9e47e891815",
   "metadata": {},
   "source": [
    "## 练习3\n",
    "设置三个函数，分别对应上述的基本操作。"
   ]
  },
  {
   "cell_type": "code",
   "execution_count": 146,
   "id": "852284d9-42b7-432f-8767-e804243b6669",
   "metadata": {
    "ExecuteTime": {
     "end_time": "2025-02-18T12:13:21.596675Z",
     "start_time": "2025-02-18T12:13:21.590470Z"
    }
   },
   "outputs": [],
   "source": [
    "def MultiplyRow(M,row_num,row_num_multiple):\n",
    "    # 创建副本\n",
    "    M_new = M.copy()\n",
    "    # 将某行乘倍数并替换掉原来的那行\n",
    "    M_new[row_num] = M_new[row_num] * row_num_multiple\n",
    "    return M_new\n",
    "def  AddRows(M,row_num_1,row_num_2,row_num_1_multiple):\n",
    "    M_new = M.copy()\n",
    "    # 某行乘以倍数加到另外一行上并交换原行\n",
    "    M_new[row_num_2] = M_new[row_num_1] * row_num_1_multiple + M_new[row_num_2]\n",
    "    return M_new\n",
    "def SwapRows(M,row_num_1,row_num_2):\n",
    "    M_new = M.copy()\n",
    "    # 交换两行\n",
    "    M_new[[row_num_1,row_num_2]] = M_new[[row_num_2,row_num_1]]\n",
    "    return M_new\n"
   ]
  },
  {
   "cell_type": "code",
   "execution_count": 147,
   "id": "186724b6-01c7-4dc3-980b-dd5e67466184",
   "metadata": {
    "ExecuteTime": {
     "end_time": "2025-02-18T12:13:21.658355Z",
     "start_time": "2025-02-18T12:13:21.650042Z"
    }
   },
   "outputs": [
    {
     "name": "stdout",
     "output_type": "stream",
     "text": [
      "Original matrix:\n",
      "[[ 1. -2.  3. -4.]\n",
      " [-5.  6. -7.  8.]\n",
      " [-4.  3. -2.  1.]\n",
      " [ 8. -7.  6. -5.]]\n",
      "\n",
      "Original matrix after its third row is multiplied by -2:\n",
      "[[ 1. -2.  3. -4.]\n",
      " [-5.  6. -7.  8.]\n",
      " [ 8. -6.  4. -2.]\n",
      " [ 8. -7.  6. -5.]]\n",
      "\n",
      "Original matrix after exchange of the third row with the sum of itself and first row multiplied by 4:\n",
      "[[  1.  -2.   3.  -4.]\n",
      " [ -5.   6.  -7.   8.]\n",
      " [  0.  -5.  10. -15.]\n",
      " [  8.  -7.   6.  -5.]]\n",
      "\n",
      "Original matrix after exchange of its first and third rows:\n",
      "[[-4.  3. -2.  1.]\n",
      " [-5.  6. -7.  8.]\n",
      " [ 1. -2.  3. -4.]\n",
      " [ 8. -7.  6. -5.]]\n"
     ]
    }
   ],
   "source": [
    "A_test = np.array([\n",
    "        [1, -2, 3, -4],\n",
    "        [-5, 6, -7, 8],\n",
    "        [-4, 3, -2, 1], \n",
    "        [8, -7, 6, -5]\n",
    "    ], dtype=np.dtype(float))\n",
    "print(\"Original matrix:\")\n",
    "print(A_test)\n",
    "\n",
    "print(\"\\nOriginal matrix after its third row is multiplied by -2:\")\n",
    "print(MultiplyRow(A_test,2,-2))\n",
    "\n",
    "print(\"\\nOriginal matrix after exchange of the third row with the sum of itself and first row multiplied by 4:\")\n",
    "print(AddRows(A_test,0,2,4))\n",
    "\n",
    "print(\"\\nOriginal matrix after exchange of its first and third rows:\")\n",
    "print(SwapRows(A_test,0,2))"
   ]
  },
  {
   "cell_type": "code",
   "execution_count": 148,
   "id": "41705887-1504-4035-91e6-105de8e50bbf",
   "metadata": {
    "ExecuteTime": {
     "end_time": "2025-02-18T12:13:21.725600Z",
     "start_time": "2025-02-18T12:13:21.719633Z"
    }
   },
   "outputs": [
    {
     "name": "stdout",
     "output_type": "stream",
     "text": [
      "\u001b[92m All tests passed\n"
     ]
    }
   ],
   "source": [
    "# 测试解答\n",
    "w2_unittest.test_elementary_operations(MultiplyRow,AddRows,SwapRows)"
   ]
  },
  {
   "cell_type": "markdown",
   "id": "4a3c604e-62c6-423c-b335-9077cabf4416",
   "metadata": {
    "ExecuteTime": {
     "end_time": "2025-02-18T10:43:44.493385Z",
     "start_time": "2025-02-18T10:43:44.490787Z"
    }
   },
   "source": [
    "## 练习4\n",
    "将定义的矩阵`A`应用基本运算，根据给定指令进行行简化\n",
    "\n",
    "注意，在编写代码时，可以在不同的矩阵操作之间自由添加返回语句以检查结果。"
   ]
  },
  {
   "cell_type": "code",
   "execution_count": 149,
   "id": "f502c960-65e4-4e59-9dc2-34dee0314968",
   "metadata": {
    "ExecuteTime": {
     "end_time": "2025-02-18T12:13:21.779247Z",
     "start_time": "2025-02-18T12:13:21.772959Z"
    }
   },
   "outputs": [],
   "source": [
    "A = np.array([\n",
    "    [2, -1, 1, 1],\n",
    "    [1, 2, -1, -1],\n",
    "    [-1, 2, 2, 2],\n",
    "    [1, -1, 2, 1]    \n",
    "],dtype=np.dtype(float))  \n",
    "            \n",
    "b = np.array([6,3,14,8],dtype=np.dtype(float))"
   ]
  },
  {
   "cell_type": "code",
   "execution_count": 150,
   "id": "6fc50ca9-8b03-40e2-88c6-8472056662fb",
   "metadata": {},
   "outputs": [
    {
     "name": "stdout",
     "output_type": "stream",
     "text": [
      "[[ 1.  2. -1. -1.  3.]\n",
      " [ 0.  1.  4.  3. 22.]\n",
      " [ 0.  0.  1.  3.  7.]\n",
      " [-0. -0. -0.  1.  1.]]\n"
     ]
    }
   ],
   "source": [
    "def augmented_to_ref(A,b):\n",
    "        # 将系数矩阵和常量列表堆叠\n",
    "        A_system = np.hstack((A,b.reshape((4,1))))\n",
    "    \n",
    "        # 交换第一行和第二行\n",
    "        A_ref = SwapRows(A_system,0,1)\n",
    "    \n",
    "    \n",
    "        # 将第一行乘以-2倍加到第二行\n",
    "        A_ref = AddRows(A_ref,0,1,-2)\n",
    "    \n",
    "    \n",
    "        # 将第一行乘以1加到第三行上\n",
    "        A_ref = AddRows(A_ref,0,2,1)\n",
    "    \n",
    "    \n",
    "        # 将第一行加乘以-1加到第四行上\n",
    "        A_ref = AddRows(A_ref,0,3,-1)\n",
    "    \n",
    "    \n",
    "        # 将第三行乘以1加到第四行上\n",
    "        A_ref = AddRows(A_ref,2,3,1)\n",
    "    \n",
    "    \n",
    "        # 将第四行和第二行交换\n",
    "        A_ref = SwapRows(A_ref,1,3)\n",
    "    \n",
    "        # 将第二行乘以-4倍加到第三行上\n",
    "        A_ref = AddRows(A_ref,1,2,-4)\n",
    "    \n",
    "    \n",
    "        # 将第二行乘以5加到第四行上\n",
    "        A_ref = AddRows(A_ref,1,3,5)\n",
    "    \n",
    "    \n",
    "    \n",
    "        # 将第四行加到第三行上\n",
    "        A_ref = AddRows(A_ref,3,2,1)\n",
    "    \n",
    "    \n",
    "    \n",
    "        # 将第三行乘以1/8\n",
    "        A_ref = MultiplyRow(A_ref,2,1/8)\n",
    "    \n",
    "    \n",
    "        # 将第三行乘以-23加到第四行上\n",
    "        A_ref = AddRows(A_ref,2,3,-23)\n",
    "    \n",
    "        # 将第四行乘以-1加到第三行上\n",
    "        A_ref = AddRows(A_ref,3,2,-1)\n",
    "    \n",
    "        # 第四行乘以-1/2.125\n",
    "        A_ref = MultiplyRow(A_ref,3,-1/2.125)\n",
    "\n",
    "        return A_ref\n",
    "A_ref = augmented_to_ref(A,b)\n",
    "print(A_ref)\n"
   ]
  },
  {
   "cell_type": "markdown",
   "id": "dd3aa7b2-7ec9-4059-adac-baeeb973a103",
   "metadata": {},
   "source": [
    "## 使用行简化法求解方程组的方法\n",
    "解决方案可以通过手动简化形式找到。从最后一行可以找到x4，然后回代计算，通过取矩阵`A_ref[i,j]`的元素并逐个解线性方程"
   ]
  },
  {
   "cell_type": "markdown",
   "id": "41684a67-e145-4fd6-8d58-0d721948d436",
   "metadata": {},
   "source": [
    "## 练习5"
   ]
  },
  {
   "cell_type": "code",
   "execution_count": 151,
   "id": "c453bfae-e876-457e-8063-7da1acbbeeac",
   "metadata": {},
   "outputs": [
    {
     "name": "stdout",
     "output_type": "stream",
     "text": [
      "2.0 3.0 4.0 1\n"
     ]
    }
   ],
   "source": [
    "# 从最后一行可以看出\n",
    "x_4 = 1\n",
    "\n",
    "# 代入第三行\n",
    "x_3 = A_ref[2,4] - A_ref[2,3] * x_4\n",
    "\n",
    "# 代入第二行\n",
    "x_2 = A_ref[1,4] - A_ref[1,3] * x_4 - A_ref[1,2] * x_3\n",
    "\n",
    "# 代入第一行\n",
    "x_1 = A_ref[0, 4] - A_ref[0, 3] * x_4 - A_ref[0, 2] * x_3 - A_ref[0, 1] * x_2\n",
    "print(x_1, x_2, x_3, x_4)"
   ]
  },
  {
   "cell_type": "code",
   "execution_count": 152,
   "id": "18bdd936-bb51-4116-b387-13711497827d",
   "metadata": {},
   "outputs": [
    {
     "name": "stdout",
     "output_type": "stream",
     "text": [
      "\u001b[92m All tests passed\n"
     ]
    }
   ],
   "source": [
    "# 测试解答\n",
    "w2_unittest.test_solution_elimination(x_1, x_2, x_3, x_4)"
   ]
  },
  {
   "cell_type": "markdown",
   "id": "c5212255-f470-4757-aa21-a2b5b31c4709",
   "metadata": {},
   "source": [
    "## 练习6\n",
    "使用与上面相同的初等运算，可以进一步将矩阵化简为对角形式，从而可以轻松看到解"
   ]
  },
  {
   "cell_type": "code",
   "execution_count": 153,
   "id": "5303f246-c8c8-4c77-9a41-31858586bc12",
   "metadata": {},
   "outputs": [
    {
     "name": "stdout",
     "output_type": "stream",
     "text": [
      "[[ 1.  0.  0.  0.  2.]\n",
      " [ 0.  1.  0.  0.  3.]\n",
      " [ 0.  0.  1.  0.  4.]\n",
      " [-0. -0. -0.  1.  1.]]\n"
     ]
    }
   ],
   "source": [
    "def ref_to_diagonal(A_ref):\n",
    "    # 第四行乘以-3加到第三行上\n",
    "    A_diag = AddRows(A_ref,3,2,-3)\n",
    "\n",
    "    # 第四行乘以-3加到第二行上\n",
    "    A_diag = AddRows(A_diag,3,1,-3)\n",
    "\n",
    "    # 第四行乘以1加到第一行上\n",
    "    A_diag = AddRows(A_diag,3,0,1)\n",
    "\n",
    "    # 第三行乘以-4加到第二行上\n",
    "    A_diag = AddRows(A_diag,2,1,-4)\n",
    "\n",
    "    # 第三行乘以1加到第一行上\n",
    "    A_diag = AddRows(A_diag,2,0,1)\n",
    "\n",
    "    # 第二行乘以-2加到第一行上\n",
    "    A_diag = AddRows(A_diag,1,0,-2)\n",
    "\n",
    "    return A_diag\n",
    "\n",
    "A_diag = ref_to_diagonal(A_ref)\n",
    "print(A_diag)"
   ]
  },
  {
   "cell_type": "code",
   "execution_count": 154,
   "id": "fcf865b6-dc4a-436f-912c-69993c75ea73",
   "metadata": {},
   "outputs": [
    {
     "name": "stdout",
     "output_type": "stream",
     "text": [
      "\u001b[92m All tests passed\n"
     ]
    }
   ],
   "source": [
    "# 测试解答\n",
    "w2_unittest.test_ref_to_diagonal(ref_to_diagonal)"
   ]
  }
 ],
 "metadata": {
  "kernelspec": {
   "display_name": "Python 3 (ipykernel)",
   "language": "python",
   "name": "python3"
  },
  "language_info": {
   "codemirror_mode": {
    "name": "ipython",
    "version": 3
   },
   "file_extension": ".py",
   "mimetype": "text/x-python",
   "name": "python",
   "nbconvert_exporter": "python",
   "pygments_lexer": "ipython3",
   "version": "3.13.2"
  }
 },
 "nbformat": 4,
 "nbformat_minor": 5
}
