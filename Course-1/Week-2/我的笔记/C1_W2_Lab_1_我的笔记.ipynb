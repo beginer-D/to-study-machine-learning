{
 "cells": [
  {
   "cell_type": "markdown",
   "id": "eb0c9f7d-2a70-4065-b838-b72cd697a468",
   "metadata": {
    "ExecuteTime": {
     "end_time": "2025-02-19T02:49:39.009909Z",
     "start_time": "2025-02-19T02:49:39.006342Z"
    },
    "collapsed": true,
    "jupyter": {
     "outputs_hidden": true
    }
   },
   "source": [
    "# 求解线性方程组：3个变量\n",
    "在这个实验室中，你将继续使用`Pthon`开发你的技能，以解决线性方程组。\n",
    "* 使用`Numpy`线性代数包求解线性方程组的解\n",
    "* 执行行简化以将矩阵转换为行阶梯形\n",
    "* 求解线性方程组的解\n",
    "* 评估矩阵的行列式，再次看到矩阵的奇异性与线性系统解的数量联系"
   ]
  },
  {
   "cell_type": "markdown",
   "id": "d42e0e48-faa0-42ff-b79f-4180b7e12bb1",
   "metadata": {},
   "source": [
    "# 导包"
   ]
  },
  {
   "cell_type": "code",
   "execution_count": 2,
   "id": "f327a447-d9ea-4fc1-ac28-df08641ec43e",
   "metadata": {},
   "outputs": [],
   "source": [
    "import numpy as np"
   ]
  },
  {
   "cell_type": "markdown",
   "id": "e1bdd206-6ed7-49e4-8536-71db86bf5876",
   "metadata": {},
   "source": [
    "# 使用矩阵表示和求解线性方程组"
   ]
  },
  {
   "cell_type": "markdown",
   "id": "823ae86e-0dd3-493a-8fa2-0eb4dbbea011",
   "metadata": {},
   "source": [
    "### 线性方程组系统\n",
    "这是一个包含三个方程和三个未知变量的线性方程组\n",
    "$$\\begin{cases} \n",
    "4x_1-3x_2+x_3=-10, \\\\ 2x_1+x_2+3x_3=0, \\\\ -x_1+2x_2-5x_3=17, \\end{cases}\\tag{1}$$\n",
    "\n",
    "要解这个线性方程组，就是要找到x1，x2，x3的值，使得所有方程同时满足。"
   ]
  },
  {
   "cell_type": "markdown",
   "id": "438310ba-89cc-4a14-b863-8832a635fa94",
   "metadata": {},
   "source": [
    "## 使用矩阵求解线性方程组\n",
    "让我们准备使用`Numpy`解决线性系统(1)。`A`将是一个矩阵，每一行将代表系统中的一个方程，每一列将对应变量x1、x2、x3。b是常量系数的1-D数组："
   ]
  },
  {
   "cell_type": "code",
   "execution_count": 3,
   "id": "9af69bcb-b98c-4bdc-930e-ec652d5ffa18",
   "metadata": {},
   "outputs": [
    {
     "name": "stdout",
     "output_type": "stream",
     "text": [
      "矩阵A：\n",
      "[[ 4. -3.  1.]\n",
      " [ 2.  1.  3.]\n",
      " [-1.  2. -5.]]\n",
      "列表b：\n",
      "[-10.   0.  17.]\n"
     ]
    }
   ],
   "source": [
    "A = np.array([\n",
    "    [4,-3,1],\n",
    "    [2,1,3],\n",
    "    [-1,2,-5]\n",
    "],dtype = np.dtype(float))\n",
    "\n",
    "b = np.array([-10,0,17],dtype=np.dtype(float))\n",
    "\n",
    "print(\"矩阵A：\")\n",
    "print(A)\n",
    "print(\"列表b：\")\n",
    "print(b)"
   ]
  },
  {
   "cell_type": "markdown",
   "id": "b070929f-300b-4b91-b62d-5ac3ca7b4f38",
   "metadata": {},
   "source": [
    "检查$A$和$b$的尺寸，使用`shape()`函数"
   ]
  },
  {
   "cell_type": "code",
   "execution_count": 5,
   "id": "f73d5a28-1789-44d7-9ae6-10c771e2bf12",
   "metadata": {},
   "outputs": [
    {
     "name": "stdout",
     "output_type": "stream",
     "text": [
      "A的形状是：(3, 3)\n",
      "b的形状是：(3,)\n"
     ]
    }
   ],
   "source": [
    "print(f\"A的形状是：{np.shape(A)}\")\n",
    "print(f\"b的形状是：{np.shape(b)}\")"
   ]
  },
  {
   "cell_type": "markdown",
   "id": "ca3ba9fd-d973-460d-b4c7-9418d985b7ed",
   "metadata": {},
   "source": [
    "现在使用`np.linalg.solve(A,b)`函数求解系统（1）的解。结果保存在1-D数组x中。元素将对应于x1、x2和x3的值"
   ]
  },
  {
   "cell_type": "code",
   "execution_count": 9,
   "id": "4faa44af-c50c-4981-9c8e-684c339d7ce2",
   "metadata": {},
   "outputs": [
    {
     "name": "stdout",
     "output_type": "stream",
     "text": [
      "矩阵的解[ 1.  4. -2.]\n"
     ]
    }
   ],
   "source": [
    "x = np.linalg.solve(A,b)\n",
    "\n",
    "print(f\"矩阵的解{x}\")"
   ]
  },
  {
   "cell_type": "markdown",
   "id": "e586441f-f47b-4821-8cb6-0b5895c61066",
   "metadata": {},
   "source": [
    "## 矩阵行列式的评估\n",
    "矩阵`A`对于线性系统（1）是一个方阵，它有相同的行和列。在方阵的情况下，可以计算其行列式 - 一个描述矩阵某些特性的实数。包含三个方程和三个未知变量的线性系统，当且仅当矩阵`A`的行列式非零时，才又一个解。\n",
    "\n",
    "让我们使用`np.linalg.det(A)`函数计算行列式"
   ]
  },
  {
   "cell_type": "code",
   "execution_count": 10,
   "id": "32b42cf4-2ef8-4463-b848-2d3dcee6c583",
   "metadata": {},
   "outputs": [
    {
     "name": "stdout",
     "output_type": "stream",
     "text": [
      "矩阵A的行列式是：-60.00\n"
     ]
    }
   ],
   "source": [
    "d = np.linalg.det(A)\n",
    "\n",
    "print(f\"矩阵A的行列式是：{d:.2f}\")"
   ]
  },
  {
   "cell_type": "markdown",
   "id": "00bebce1-7cc4-4900-ac8f-db53ac16c95c",
   "metadata": {},
   "source": [
    "请注意，其值非零，正如预期那样"
   ]
  },
  {
   "cell_type": "markdown",
   "id": "bce3d44f-78fe-4f62-9684-c54def50f667",
   "metadata": {},
   "source": [
    "## 使用行简化法求解1线性方程组\n",
    "### 行简化准备\n",
    "可以看到使用现代软件包解决线性方程有多简单。然而，为了更深入理解数学概念，手动练习一些解题技巧是很重要的。编程方法在这里仍然可以帮助减少算数计算的数量，并专注于方法本身。\n",
    "\n",
    "这里可以练习三变量线性方程组的行简化方法。要应用它，首先，使用`np.hstack()`函数将矩阵$A$和数组$b$合并成一个矩阵。注意，最初定义的数组$b$的形状是(3,),为了与(3,3)矩阵堆叠，需要将其转换成具有相同维数的形状，使用`.reshape((3,1))`函数："
   ]
  },
  {
   "cell_type": "code",
   "execution_count": 11,
   "id": "359b815f-33fc-4660-a827-14709ee0e98f",
   "metadata": {},
   "outputs": [
    {
     "name": "stdout",
     "output_type": "stream",
     "text": [
      "[[  4.  -3.   1. -10.]\n",
      " [  2.   1.   3.   0.]\n",
      " [ -1.   2.  -5.  17.]]\n"
     ]
    }
   ],
   "source": [
    "A_system = np.hstack((A,b.reshape((3,1))))\n",
    "\n",
    "print(A_system)"
   ]
  },
  {
   "cell_type": "markdown",
   "id": "da6d3bed-615f-4230-92c7-1eb2feaf6c9e",
   "metadata": {},
   "source": [
    "## 基本操作函数\n",
    "让我回顾基本运算，这些运算不会改变线性方程组的解集：\n",
    "* 将任意行乘以非零数\n",
    "* 将两行相加并与某一原始行交换\n",
    "* 交换行\n",
    "\n",
    "在较大系统的情况下，需要多次应用基本操作。因此，定义相应的Python函数是方便的"
   ]
  },
  {
   "cell_type": "code",
   "execution_count": 15,
   "id": "a35efb8e-354f-4211-b17e-99091b99648b",
   "metadata": {},
   "outputs": [
    {
     "name": "stdout",
     "output_type": "stream",
     "text": [
      "原矩阵是\n",
      "[[  4.  -3.   1. -10.]\n",
      " [  2.   1.   3.   0.]\n",
      " [ -1.   2.  -5.  17.]]\n",
      "矩阵在第三行乘以2后\n",
      "[[  4.  -3.   1. -10.]\n",
      " [  2.   1.   3.   0.]\n",
      " [ -2.   4. -10.  34.]]\n"
     ]
    }
   ],
   "source": [
    "def MultiplyRow(M,row_num,row_num_multiple):\n",
    "    M_new = M.copy()\n",
    "    M_new[row_num] = M_new[row_num] * row_num_multiple\n",
    "    return M_new\n",
    "\n",
    "print(\"原矩阵是\")\n",
    "print(A_system)\n",
    "print(\"矩阵在第三行乘以2后\")\n",
    "print(MultiplyRow(A_system,2,2))"
   ]
  },
  {
   "cell_type": "code",
   "execution_count": 17,
   "id": "1f250585-e474-4ab5-8f84-ee2fc38823a4",
   "metadata": {},
   "outputs": [
    {
     "name": "stdout",
     "output_type": "stream",
     "text": [
      "原矩阵是\n",
      "[[  4.  -3.   1. -10.]\n",
      " [  2.   1.   3.   0.]\n",
      " [ -1.   2.  -5.  17.]]\n",
      "矩阵在将第一行乘以1/2再加到第二行上后\n",
      "[[  4.   -3.    1.  -10. ]\n",
      " [  2.    1.    3.    0. ]\n",
      " [  0.    2.5  -3.5  17. ]]\n"
     ]
    }
   ],
   "source": [
    "def AddRows(M,row_num_1,row_num_2,num_row_multiple):\n",
    "    M_new = M.copy()\n",
    "    M_new[row_num_2] = M_new[row_num_1] * num_row_multiple + M_new[row_num_2]\n",
    "    return M_new\n",
    "print(\"原矩阵是\")\n",
    "print(A_system)\n",
    "print(\"矩阵在将第一行乘以1/2再加到第二行上后\")\n",
    "print(AddRows(A_system,1,2,1/2))"
   ]
  },
  {
   "cell_type": "code",
   "execution_count": 19,
   "id": "da64d99b-c022-41fc-a714-ec6fa6b8219e",
   "metadata": {},
   "outputs": [
    {
     "name": "stdout",
     "output_type": "stream",
     "text": [
      "原矩阵是\n",
      "[[  4.  -3.   1. -10.]\n",
      " [  2.   1.   3.   0.]\n",
      " [ -1.   2.  -5.  17.]]\n",
      "将第一行和第三行进行交换后\n",
      "[[ -1.   2.  -5.  17.]\n",
      " [  2.   1.   3.   0.]\n",
      " [  4.  -3.   1. -10.]]\n"
     ]
    }
   ],
   "source": [
    "def SwapRows(M,num_row_1,num_row_2):\n",
    "    M_new = M.copy()\n",
    "    M_new[[num_row_1,num_row_2]] = M_new[[num_row_2,num_row_1]]\n",
    "    return M_new\n",
    "\n",
    "print(\"原矩阵是\")\n",
    "print(A_system)\n",
    "print(\"将第一行和第三行进行交换后\")\n",
    "print(SwapRows(A_system,0,2))"
   ]
  },
  {
   "cell_type": "markdown",
   "id": "7f6591af-3c23-4803-90f1-6374f969f63e",
   "metadata": {},
   "source": [
    "## 行简化与线性方程组的求解\n",
    "现在您可以使用定义的操作将矩阵转换为行简化形式。要手动进行，在第一行的第一个元素中具有1或-1值是方便的。在Python中进行计算不会提供太多好处。但为了说明目的，这样做更好。因此，让我们交换第一行和第三行："
   ]
  },
  {
   "cell_type": "code",
   "execution_count": 20,
   "id": "07fd31c5-ecd4-42f7-90cb-1a48e0c85388",
   "metadata": {},
   "outputs": [
    {
     "name": "stdout",
     "output_type": "stream",
     "text": [
      "[[ -1.   2.  -5.  17.]\n",
      " [  2.   1.   3.   0.]\n",
      " [  4.  -3.   1. -10.]]\n"
     ]
    }
   ],
   "source": [
    "A_ref = SwapRows(A_system,0,2)\n",
    "\n",
    "print(A_ref)"
   ]
  },
  {
   "cell_type": "markdown",
   "id": "f4215d1c-ea9c-4022-87a5-597e33418939",
   "metadata": {},
   "source": [
    "现在你需要进行这样的基本操作，使得第二行和第三行的第一个元素等于零："
   ]
  },
  {
   "cell_type": "code",
   "execution_count": 21,
   "id": "a13d200f-f9b2-4951-8ba7-9463e081b3b8",
   "metadata": {},
   "outputs": [
    {
     "name": "stdout",
     "output_type": "stream",
     "text": [
      "[[ -1.   2.  -5.  17.]\n",
      " [  0.   5.  -7.  34.]\n",
      " [  4.  -3.   1. -10.]]\n"
     ]
    }
   ],
   "source": [
    "A_ref = AddRows(A_ref,0,1,2)\n",
    "print(A_ref)"
   ]
  },
  {
   "cell_type": "code",
   "execution_count": 22,
   "id": "b95709b1-d53e-44b7-a01b-65feb6f1be9e",
   "metadata": {},
   "outputs": [
    {
     "name": "stdout",
     "output_type": "stream",
     "text": [
      "[[ -1.   2.  -5.  17.]\n",
      " [  0.   5.  -7.  34.]\n",
      " [  0.   5. -19.  58.]]\n"
     ]
    }
   ],
   "source": [
    "A_ref = AddRows(A_ref,0,2,4)\n",
    "print(A_ref)"
   ]
  },
  {
   "cell_type": "code",
   "execution_count": 23,
   "id": "a4c482b2-32f7-435b-a63d-0dbbde36f261",
   "metadata": {},
   "outputs": [
    {
     "name": "stdout",
     "output_type": "stream",
     "text": [
      "[[ -1.   2.  -5.  17.]\n",
      " [  0.   5.  -7.  34.]\n",
      " [  0.   0. -12.  24.]]\n"
     ]
    }
   ],
   "source": [
    "A_ref = AddRows(A_ref,1,2,-1)\n",
    "print(A_ref)"
   ]
  },
  {
   "cell_type": "markdown",
   "id": "94a289ce-eae7-4384-a7ff-0b7df506cf04",
   "metadata": {},
   "source": [
    "现在很容易找到第三行中x3的值，因为它对应于方程-12*x3=24.让我们将这一行除以-12:"
   ]
  },
  {
   "cell_type": "code",
   "execution_count": 24,
   "id": "e830b5b8-e6d2-4122-af63-6a51fe4e4211",
   "metadata": {},
   "outputs": [
    {
     "name": "stdout",
     "output_type": "stream",
     "text": [
      "[[-1.  2. -5. 17.]\n",
      " [ 0.  5. -7. 34.]\n",
      " [-0. -0.  1. -2.]]\n"
     ]
    }
   ],
   "source": [
    "A_ref = MultiplyRow(A_ref,2,-1/12)\n",
    "print(A_ref)"
   ]
  },
  {
   "cell_type": "markdown",
   "id": "05e7d485-29f4-42e7-b32a-f821d3296253",
   "metadata": {},
   "source": [
    "现在矩阵的第二行对应于方程5*x2-7*x3 = 34，第一行对应于方程-x1+2*x2-5*x3 = 17。通过参考矩阵的元素，您可以找到x2和x1的值"
   ]
  },
  {
   "cell_type": "code",
   "execution_count": 28,
   "id": "26bb2d08-4005-480c-9385-04e3fb661e4a",
   "metadata": {},
   "outputs": [
    {
     "name": "stdout",
     "output_type": "stream",
     "text": [
      "1.0 4.0 -2\n"
     ]
    }
   ],
   "source": [
    "x_3 = -2\n",
    "x_2 = (A_ref[1,3]-A_ref[1,2] * x_3) / A_ref[1,1]\n",
    "x_1 = (A_ref[0,3]-A_ref[0,2] * x_3 - A_ref[0,1] * x_2)/ A_ref[0,0]\n",
    "\n",
    "print(x_1,x_2,x_3)"
   ]
  },
  {
   "cell_type": "markdown",
   "id": "4aea028f-0b3a-4495-ac6b-372c38d63869",
   "metadata": {},
   "source": [
    "## 无解的线性方程组\n",
    "给定另一个线性方程组：\n",
    "$$\\begin{cases} \n",
    "x_1+x_2+x_3=2, \\\\ x_2-3x_3=1, \\\\ 2x_1+x_2+5x_3=0, \\end{cases}\\tag{2}$$\n",
    "让我们找到相应矩阵的行列式。"
   ]
  },
  {
   "cell_type": "code",
   "execution_count": 29,
   "id": "e08b3a09-e7c5-40cb-b1c3-889b4251ba98",
   "metadata": {},
   "outputs": [
    {
     "name": "stdout",
     "output_type": "stream",
     "text": [
      "矩阵A_2的行列式的值为0.0\n"
     ]
    }
   ],
   "source": [
    "A_2 = np.array([\n",
    "    [1,1,1],\n",
    "    [0,1,-3],\n",
    "    [2,1,5],\n",
    "],dtype=np.dtype(float))\n",
    "\n",
    "b_2 = np.array([2,1,0],dtype=np.dtype(float))\n",
    "\n",
    "d_2 = np.linalg.det(A_2)\n",
    "print(f\"矩阵A_2的行列式的值为{d_2}\")"
   ]
  },
  {
   "cell_type": "markdown",
   "id": "744bb2f8-b591-47bc-a276-f3e8f6a08a06",
   "metadata": {},
   "source": [
    "它等于零，因此系统不能有一个唯一解。它将有无穷多个解或者没有解。其一致性将取决于自由系数(右侧系数)。\n",
    "可以在下面单元中取消注释并运行代码，以姜茶`np.linalg.solve()`函数会因为奇异性而给出错误。"
   ]
  },
  {
   "cell_type": "code",
   "execution_count": 31,
   "id": "8294f745-7257-4666-8e5d-b9a96e6be505",
   "metadata": {},
   "outputs": [],
   "source": [
    "# x_2 = np.linalg.solve(A_2,b_2)"
   ]
  },
  {
   "cell_type": "markdown",
   "id": "3b47e4fb-8edc-4943-adbe-77b72d4ca8d0",
   "metadata": {},
   "source": [
    "可以执行基本操作查看方程组没有解："
   ]
  },
  {
   "cell_type": "code",
   "execution_count": 32,
   "id": "ecd75f27-759f-457d-9990-071edb43a12a",
   "metadata": {},
   "outputs": [
    {
     "name": "stdout",
     "output_type": "stream",
     "text": [
      "[[ 1.  1.  1.  2.]\n",
      " [ 0.  1. -3.  1.]\n",
      " [ 2.  1.  5.  0.]]\n"
     ]
    }
   ],
   "source": [
    "A_2_system = np.hstack((A_2,b_2.reshape((3,1))))\n",
    "print(A_2_system)"
   ]
  },
  {
   "cell_type": "code",
   "execution_count": 33,
   "id": "9d8374d8-b3a2-429d-8aa9-052306a752d3",
   "metadata": {},
   "outputs": [
    {
     "name": "stdout",
     "output_type": "stream",
     "text": [
      "[[ 1.  1.  1.  2.]\n",
      " [ 0.  1. -3.  1.]\n",
      " [ 0. -1.  3. -4.]]\n"
     ]
    }
   ],
   "source": [
    "A_2_ref = AddRows(A_2_system,0,2,-2)\n",
    "print(A_2_ref)"
   ]
  },
  {
   "cell_type": "code",
   "execution_count": 34,
   "id": "b406ac11-5eda-4524-806f-be04bdb6bca6",
   "metadata": {},
   "outputs": [
    {
     "name": "stdout",
     "output_type": "stream",
     "text": [
      "[[ 1.  1.  1.  2.]\n",
      " [ 0.  1. -3.  1.]\n",
      " [ 0.  0.  0. -3.]]\n"
     ]
    }
   ],
   "source": [
    "A_2_ref = AddRows(A_2_ref,1,2,1)\n",
    "print(A_2_ref)"
   ]
  },
  {
   "cell_type": "markdown",
   "id": "a2698363-f5c2-4239-8973-bee2cd450814",
   "metadata": {},
   "source": [
    "最后一行对应于方程0 = -3，该方程无解。因此，整个线性方程组(2)无解。"
   ]
  },
  {
   "cell_type": "markdown",
   "id": "eb0331a0-f615-43c8-80a8-e7acafadcb29",
   "metadata": {},
   "source": [
    "# 无穷多解的线性方程组\n",
    "可以通过仅改变常量系数来将系统(2)带到一致性\n",
    "$$\\begin{cases} \n",
    "x_1+x_2+x_3=2, \\\\ x_2-3x_3=1, \\\\ 2x_1+x_2+5x_3=3. \\end{cases}\\tag{3}$$\n",
    "\n",
    "定义新的常量系数数组："
   ]
  },
  {
   "cell_type": "code",
   "execution_count": 35,
   "id": "a8789d39-eb20-49af-a624-abbf9af9f0cd",
   "metadata": {},
   "outputs": [],
   "source": [
    "b_3 = np.array([2,1,3])"
   ]
  },
  {
   "cell_type": "markdown",
   "id": "d992014a-f94d-4742-8b7c-ee86a54c9ab2",
   "metadata": {},
   "source": [
    "准备对应于系统(3)的新矩阵"
   ]
  },
  {
   "cell_type": "code",
   "execution_count": 36,
   "id": "550cf138-7b24-4e79-a694-cb10c3359b00",
   "metadata": {},
   "outputs": [
    {
     "name": "stdout",
     "output_type": "stream",
     "text": [
      "[[ 1.  1.  1.  2.]\n",
      " [ 0.  1. -3.  1.]\n",
      " [ 2.  1.  5.  3.]]\n"
     ]
    }
   ],
   "source": [
    "A_3_system = np.hstack(((A_2,b_3.reshape(3,1))))\n",
    "print(A_3_system)"
   ]
  },
  {
   "cell_type": "code",
   "execution_count": 37,
   "id": "80f132aa-1b25-4952-b3e4-9d6f6a7583ad",
   "metadata": {},
   "outputs": [
    {
     "name": "stdout",
     "output_type": "stream",
     "text": [
      "[[ 1.  1.  1.  2.]\n",
      " [ 0.  1. -3.  1.]\n",
      " [ 0. -1.  3. -1.]]\n"
     ]
    }
   ],
   "source": [
    "A_3_ref = AddRows(A_3_system,0,2,-2)\n",
    "print(A_3_ref)"
   ]
  },
  {
   "cell_type": "code",
   "execution_count": 38,
   "id": "f0be8994-7deb-4bac-9e98-9f92f1c040fe",
   "metadata": {},
   "outputs": [
    {
     "name": "stdout",
     "output_type": "stream",
     "text": [
      "[[ 1.  1.  1.  2.]\n",
      " [ 0.  1. -3.  1.]\n",
      " [ 0.  0.  0.  0.]]\n"
     ]
    }
   ],
   "source": [
    "A_3_ref = AddRows(A_3_ref,1,2,1)\n",
    "print(A_3_ref)"
   ]
  },
  {
   "cell_type": "markdown",
   "id": "135529b7-1ca5-454b-943b-9bf210047548",
   "metadata": {},
   "source": [
    "因此从相应的线性系统中\n",
    "$$\\begin{cases} \n",
    "x_1+x_2+x_3=2, \\\\ x_2-3x_3=1, \\\\ 0=0, \\end{cases}\\tag{4}$$\n",
    "你可以找到x2 = 1 + 3* x3，将其带入第一个方程中，并找到x1。因此，线性系统（3）的解为：\n",
    "x3 是任意实数"
   ]
  },
  {
   "cell_type": "markdown",
   "id": "177401ec-b029-4ec9-af99-b27d3197edc7",
   "metadata": {},
   "source": [
    "记住，如果不存在或存在无限多个解，`np.linalg.solve`会报错，因此在实现它时，必须仔细思考，以免程序崩溃"
   ]
  },
  {
   "cell_type": "code",
   "execution_count": null,
   "id": "bb23713f-7535-4817-aae3-48a8255c22dd",
   "metadata": {},
   "outputs": [],
   "source": []
  }
 ],
 "metadata": {
  "kernelspec": {
   "display_name": "Python 3 (ipykernel)",
   "language": "python",
   "name": "python3"
  },
  "language_info": {
   "codemirror_mode": {
    "name": "ipython",
    "version": 3
   },
   "file_extension": ".py",
   "mimetype": "text/x-python",
   "name": "python",
   "nbconvert_exporter": "python",
   "pygments_lexer": "ipython3",
   "version": "3.13.2"
  }
 },
 "nbformat": 4,
 "nbformat_minor": 5
}
